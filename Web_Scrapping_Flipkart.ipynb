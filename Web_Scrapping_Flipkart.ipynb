{
 "cells": [
  {
   "cell_type": "code",
   "execution_count": 1,
   "metadata": {},
   "outputs": [],
   "source": [
    "import requests         #to send http requests\n",
    "from bs4 import BeautifulSoup     #to scrap data from webpages"
   ]
  },
  {
   "cell_type": "code",
   "execution_count": 2,
   "metadata": {},
   "outputs": [
    {
     "data": {
      "text/plain": [
       "200"
      ]
     },
     "execution_count": 2,
     "metadata": {},
     "output_type": "execute_result"
    }
   ],
   "source": [
    "product = \"shoes\"\n",
    "url  = f\"https://www.flipkart.com/search?q={product}&otracker=search&otracker1=search&marketplace=FLIPKART&as-show=on&as=off\"\n",
    "response = requests.get(url)\n",
    "response.status_code     #to check server successfully returned the page "
   ]
  },
  {
   "cell_type": "code",
   "execution_count": 3,
   "metadata": {},
   "outputs": [],
   "source": [
    "page_content = response.text"
   ]
  },
  {
   "cell_type": "code",
   "execution_count": 5,
   "metadata": {},
   "outputs": [],
   "source": [
    "doc = BeautifulSoup(page_content,\"html.parser\")"
   ]
  },
  {
   "cell_type": "code",
   "execution_count": 8,
   "metadata": {},
   "outputs": [
    {
     "data": {
      "text/plain": [
       "<link href=\"https://rukminim1.flixcart.com\" rel=\"preconnect\"/>"
      ]
     },
     "execution_count": 8,
     "metadata": {},
     "output_type": "execute_result"
    }
   ],
   "source": [
    "tag = doc.link\n",
    "tag"
   ]
  },
  {
   "cell_type": "code",
   "execution_count": 9,
   "metadata": {},
   "outputs": [
    {
     "data": {
      "text/plain": [
       "'https://rukminim1.flixcart.com'"
      ]
     },
     "execution_count": 9,
     "metadata": {},
     "output_type": "execute_result"
    }
   ],
   "source": [
    "tag['href']   #we can access tag's attribute by treating the tag like a dictionary"
   ]
  },
  {
   "cell_type": "markdown",
   "metadata": {},
   "source": [
    "### Next page link for products"
   ]
  },
  {
   "cell_type": "code",
   "execution_count": 10,
   "metadata": {},
   "outputs": [],
   "source": [
    "next_page = doc.find(\"a\",{\"class\":\"_1LKTO3\"})"
   ]
  },
  {
   "cell_type": "code",
   "execution_count": 11,
   "metadata": {},
   "outputs": [
    {
     "data": {
      "text/plain": [
       "<a class=\"_1LKTO3\" href=\"/search?q=shoes&amp;otracker=search&amp;otracker1=search&amp;marketplace=FLIPKART&amp;as-show=on&amp;as=off&amp;page=2\"><span>Next</span></a>"
      ]
     },
     "execution_count": 11,
     "metadata": {},
     "output_type": "execute_result"
    }
   ],
   "source": [
    "next_page"
   ]
  },
  {
   "cell_type": "code",
   "execution_count": 12,
   "metadata": {},
   "outputs": [
    {
     "data": {
      "text/plain": [
       "'/search?q=shoes&otracker=search&otracker1=search&marketplace=FLIPKART&as-show=on&as=off&page=2'"
      ]
     },
     "execution_count": 12,
     "metadata": {},
     "output_type": "execute_result"
    }
   ],
   "source": [
    "next_page['href']"
   ]
  },
  {
   "cell_type": "markdown",
   "metadata": {},
   "source": [
    "### Brand Name "
   ]
  },
  {
   "cell_type": "code",
   "execution_count": 13,
   "metadata": {},
   "outputs": [],
   "source": [
    "brand_tag = doc.find_all(\"div\",{\"class\":\"_2WkVRV\"})"
   ]
  },
  {
   "cell_type": "code",
   "execution_count": 15,
   "metadata": {
    "scrolled": true
   },
   "outputs": [
    {
     "data": {
      "text/plain": [
       "'Airland'"
      ]
     },
     "execution_count": 15,
     "metadata": {},
     "output_type": "execute_result"
    }
   ],
   "source": [
    "brand_tag[0].text"
   ]
  },
  {
   "cell_type": "markdown",
   "metadata": {},
   "source": [
    "### Link to product page"
   ]
  },
  {
   "cell_type": "code",
   "execution_count": 16,
   "metadata": {},
   "outputs": [],
   "source": [
    "product_title_tag = doc.find_all(\"a\",{\"class\":\"IRpwTa\"})"
   ]
  },
  {
   "cell_type": "code",
   "execution_count": 17,
   "metadata": {},
   "outputs": [
    {
     "data": {
      "text/plain": [
       "40"
      ]
     },
     "execution_count": 17,
     "metadata": {},
     "output_type": "execute_result"
    }
   ],
   "source": [
    "len(product_title_tag)  #One page shows 40 shoes"
   ]
  },
  {
   "cell_type": "code",
   "execution_count": 18,
   "metadata": {},
   "outputs": [
    {
     "data": {
      "text/plain": [
       "<a class=\"IRpwTa\" href=\"/airland-new-02-grey-orange-training-gym-shoes-men/p/itm7fda20bbebdb2?pid=SHOFZVRECGZR6J2Z&amp;lid=LSTSHOFZVRECGZR6J2ZHIGZ2Q&amp;marketplace=FLIPKART&amp;q=shoes&amp;store=osp&amp;srno=s_1_1&amp;otracker=search&amp;otracker1=search&amp;fm=organic&amp;iid=en_Cou0rr9AOb0ilzrAgqHgVJCpFeqYHSq2V%2B4%2FD2dW2xoRKFvXGMsSAGbD1cxeBDmBxDjUm0VyVze6kuvpjlLsEg%3D%3D&amp;ppt=None&amp;ppn=None&amp;ssid=mldbfajxcg0000001642425081953&amp;qH=b0a8b6f820479900\" rel=\"noopener noreferrer\" target=\"_blank\" title=\"New -02 Grey Orange Training &amp; Gym Shoes For Men\">New -02 Grey Orange Training &amp; Gym Shoes For Men</a>"
      ]
     },
     "execution_count": 18,
     "metadata": {},
     "output_type": "execute_result"
    }
   ],
   "source": [
    "product_title_tag[0]"
   ]
  },
  {
   "cell_type": "code",
   "execution_count": 19,
   "metadata": {},
   "outputs": [
    {
     "data": {
      "text/plain": [
       "40"
      ]
     },
     "execution_count": 19,
     "metadata": {},
     "output_type": "execute_result"
    }
   ],
   "source": [
    "product_link = []\n",
    "for i in product_title_tag:\n",
    "    product_link.append(i['href'])        #To extract only ref link \n",
    "len(product_link)"
   ]
  },
  {
   "cell_type": "markdown",
   "metadata": {},
   "source": [
    "### Product title"
   ]
  },
  {
   "cell_type": "code",
   "execution_count": 20,
   "metadata": {},
   "outputs": [
    {
     "data": {
      "text/plain": [
       "'New -02 Grey Orange Training & Gym Shoes For Men'"
      ]
     },
     "execution_count": 20,
     "metadata": {},
     "output_type": "execute_result"
    }
   ],
   "source": [
    "product_title_tag[0]['title']"
   ]
  },
  {
   "cell_type": "code",
   "execution_count": 21,
   "metadata": {},
   "outputs": [
    {
     "data": {
      "text/plain": [
       "'airland-new-02-grey-orange-training-gym-shoes-men'"
      ]
     },
     "execution_count": 21,
     "metadata": {},
     "output_type": "execute_result"
    }
   ],
   "source": [
    "product_title_tag[0]['href'].split(\"/\")[1]"
   ]
  },
  {
   "cell_type": "code",
   "execution_count": 22,
   "metadata": {
    "scrolled": true
   },
   "outputs": [
    {
     "data": {
      "text/plain": [
       "40"
      ]
     },
     "execution_count": 22,
     "metadata": {},
     "output_type": "execute_result"
    }
   ],
   "source": [
    "product_title = []\n",
    "for i in product_title_tag:\n",
    "    product_title.append(i['title'])\n",
    "    \n",
    "len(product_title)"
   ]
  },
  {
   "cell_type": "markdown",
   "metadata": {},
   "source": [
    "### Overall Rating of Product "
   ]
  },
  {
   "cell_type": "code",
   "execution_count": 23,
   "metadata": {},
   "outputs": [
    {
     "data": {
      "text/plain": [
       "200"
      ]
     },
     "execution_count": 23,
     "metadata": {},
     "output_type": "execute_result"
    }
   ],
   "source": [
    "product_url = product_link[0]\n",
    "product_page_response = requests.get(f\"https://www.flipkart.com{product_url}\")\n",
    "product_page_response.status_code"
   ]
  },
  {
   "cell_type": "code",
   "execution_count": 24,
   "metadata": {},
   "outputs": [],
   "source": [
    "product_page_content = product_page_response.text"
   ]
  },
  {
   "cell_type": "code",
   "execution_count": 25,
   "metadata": {},
   "outputs": [],
   "source": [
    "product_page = BeautifulSoup(product_page_content,\"html.parser\")"
   ]
  },
  {
   "cell_type": "code",
   "execution_count": 27,
   "metadata": {},
   "outputs": [],
   "source": [
    "rating_tag = product_page.find(\"div\",{\"class\":\"_3LWZlK _3uSWvT\"})"
   ]
  },
  {
   "cell_type": "code",
   "execution_count": 28,
   "metadata": {},
   "outputs": [
    {
     "data": {
      "text/plain": [
       "<div class=\"_3LWZlK _3uSWvT\">3.8<img class=\"_1wB99o _19cuvx\" src=\"data:image/svg+xml;base64,PHN2ZyB4bWxucz0iaHR0cDovL3d3dy53My5vcmcvMjAwMC9zdmciIHdpZHRoPSIxMyIgaGVpZ2h0PSIxMiI+PHBhdGggZmlsbD0iI0ZGRiIgZD0iTTYuNSA5LjQzOWwtMy42NzQgMi4yMy45NC00LjI2LTMuMjEtMi44ODMgNC4yNTQtLjQwNEw2LjUuMTEybDEuNjkgNC4wMSA0LjI1NC40MDQtMy4yMSAyLjg4Mi45NCA0LjI2eiIvPjwvc3ZnPg==\"/></div>"
      ]
     },
     "execution_count": 28,
     "metadata": {},
     "output_type": "execute_result"
    }
   ],
   "source": [
    "rating_tag"
   ]
  },
  {
   "cell_type": "code",
   "execution_count": 29,
   "metadata": {},
   "outputs": [
    {
     "data": {
      "text/plain": [
       "'3.8'"
      ]
     },
     "execution_count": 29,
     "metadata": {},
     "output_type": "execute_result"
    }
   ],
   "source": [
    "rating_tag.text"
   ]
  },
  {
   "cell_type": "markdown",
   "metadata": {},
   "source": [
    "page url -> product url -> rating\n",
    "\n",
    "For a Particular Product brand\n",
    "Product_title , rating , review_title , review , Location , date , upvotes , downvotes\n",
    "\n",
    "Done🆗   For Products\n",
    "Brand , product_title , overall_rating , no. of reviews"
   ]
  },
  {
   "cell_type": "markdown",
   "metadata": {},
   "source": [
    "### first page with brand , product_title , rating , price and product_url"
   ]
  },
  {
   "cell_type": "code",
   "execution_count": 123,
   "metadata": {},
   "outputs": [],
   "source": [
    "def parsed(url):\n",
    "    response = requests.get(url)\n",
    "    content = response.text\n",
    "    page = BeautifulSoup(content,\"html.parser\")\n",
    "    return page\n",
    "\n",
    "def get_rating(links):\n",
    "    rate = []\n",
    "    for product_url in links:\n",
    "        product_page = parsed(f\"https://www.flipkart.com{product_url}\")\n",
    "        rating_tag = product_page.find(\"div\",{\"class\":\"_3LWZlK _3uSWvT\"})\n",
    "        if rating_tag==None:\n",
    "            rate.append(None)\n",
    "        else:\n",
    "            rate.append(rating_tag.text)\n",
    "    return rate\n",
    "                              \n",
    "def get_price(page):\n",
    "    price_tag = page.find_all(\"div\",{\"class\":\"_30jeq3\"})\n",
    "    product_price = []\n",
    "    for i in price_tag:\n",
    "        product_price.append(i.text.split(\"₹\")[1])\n",
    "    return product_price\n",
    "                              \n",
    "def get_dataset(url):\n",
    "    import pandas as pd\n",
    "    import numpy as np\n",
    "    from tqdm import tqdm\n",
    "    brands = []\n",
    "    product_link1 = []\n",
    "    product_title1 = []\n",
    "    ratings = []\n",
    "    price = []\n",
    "    for i in tqdm(range(1,2)):          #for 1 page\n",
    "        page = f\"{url}&page={i}\"\n",
    "        parser = parsed(page)\n",
    "    \n",
    "        brand_tag = parser.find_all(\"div\",{\"class\":\"_2WkVRV\"})    #class will not be same for all products\n",
    "        \n",
    "        for j in brand_tag:\n",
    "            brands.append(j.text)\n",
    "\n",
    "        product_title_tag = parser.find_all(\"a\",{\"class\":\"IRpwTa\"})\n",
    "        product_link2 = []\n",
    "\n",
    "        for k in product_title_tag:\n",
    "            product_link1.append(k['href'])\n",
    "            product_title1.append(k['href'].split(\"/\")[1])\n",
    "            product_link2.append(k['href'])\n",
    "            \n",
    "        star= get_rating(product_link2)\n",
    "        for l in star:\n",
    "            ratings.append(l)\n",
    "                              \n",
    "        price_list = get_price(parser)\n",
    "        for p in range(0,40):\n",
    "            price.append(price_list[p])\n",
    "    \n",
    "                              \n",
    "    dataset = pd.DataFrame({\"brand\": brands,\"product_title\":product_title1,\"overall_rating\":ratings,\"price\":price,\"product_url\":product_link1})\n",
    "    return dataset"
   ]
  },
  {
   "cell_type": "code",
   "execution_count": 31,
   "metadata": {},
   "outputs": [
    {
     "name": "stderr",
     "output_type": "stream",
     "text": [
      "100%|████████████████████████████████████████████████████████████████████████████████████| 1/1 [00:48<00:00, 48.81s/it]\n"
     ]
    }
   ],
   "source": [
    "product = \"shoes\"\n",
    "url  = f\"https://www.flipkart.com/search?q={product}&otracker=search&otracker1=search&marketplace=FLIPKART&as-show=on&as=off\"\n",
    "df = get_dataset(url)"
   ]
  },
  {
   "cell_type": "code",
   "execution_count": 32,
   "metadata": {
    "scrolled": true
   },
   "outputs": [
    {
     "data": {
      "text/html": [
       "<div>\n",
       "<style scoped>\n",
       "    .dataframe tbody tr th:only-of-type {\n",
       "        vertical-align: middle;\n",
       "    }\n",
       "\n",
       "    .dataframe tbody tr th {\n",
       "        vertical-align: top;\n",
       "    }\n",
       "\n",
       "    .dataframe thead th {\n",
       "        text-align: right;\n",
       "    }\n",
       "</style>\n",
       "<table border=\"1\" class=\"dataframe\">\n",
       "  <thead>\n",
       "    <tr style=\"text-align: right;\">\n",
       "      <th></th>\n",
       "      <th>brand</th>\n",
       "      <th>product_title</th>\n",
       "      <th>overall_rating</th>\n",
       "      <th>price</th>\n",
       "      <th>product_url</th>\n",
       "    </tr>\n",
       "  </thead>\n",
       "  <tbody>\n",
       "    <tr>\n",
       "      <th>0</th>\n",
       "      <td>World Wear Footwear</td>\n",
       "      <td>world-wear-footwear-affordable-collection-styl...</td>\n",
       "      <td>3.7</td>\n",
       "      <td>245</td>\n",
       "      <td>/world-wear-footwear-affordable-collection-sty...</td>\n",
       "    </tr>\n",
       "    <tr>\n",
       "      <th>1</th>\n",
       "      <td>BIRDE</td>\n",
       "      <td>birde-combo-pack-2-sports-shoes-running-men</td>\n",
       "      <td>3.6</td>\n",
       "      <td>559</td>\n",
       "      <td>/birde-combo-pack-2-sports-shoes-running-men/p...</td>\n",
       "    </tr>\n",
       "    <tr>\n",
       "      <th>2</th>\n",
       "      <td>BIRDE</td>\n",
       "      <td>birde-walking-shoes-men</td>\n",
       "      <td>3.8</td>\n",
       "      <td>535</td>\n",
       "      <td>/birde-walking-shoes-men/p/itm34da835b8e711?pi...</td>\n",
       "    </tr>\n",
       "    <tr>\n",
       "      <th>3</th>\n",
       "      <td>BRUTON</td>\n",
       "      <td>bruton-trendy-sports-running-shoes-men</td>\n",
       "      <td>None</td>\n",
       "      <td>299</td>\n",
       "      <td>/bruton-trendy-sports-running-shoes-men/p/itm6...</td>\n",
       "    </tr>\n",
       "    <tr>\n",
       "      <th>4</th>\n",
       "      <td>ASIAN</td>\n",
       "      <td>asian-rider-01-white-running-shoes-men-sport-b...</td>\n",
       "      <td>4</td>\n",
       "      <td>1,099</td>\n",
       "      <td>/asian-rider-01-white-running-shoes-men-sport-...</td>\n",
       "    </tr>\n",
       "    <tr>\n",
       "      <th>5</th>\n",
       "      <td>Axter</td>\n",
       "      <td>axter-exclusive-range-stylish-casual-walking-c...</td>\n",
       "      <td>3.7</td>\n",
       "      <td>259</td>\n",
       "      <td>/axter-exclusive-range-stylish-casual-walking-...</td>\n",
       "    </tr>\n",
       "    <tr>\n",
       "      <th>6</th>\n",
       "      <td>aadi</td>\n",
       "      <td>aadi-running-shoes-men</td>\n",
       "      <td>3.7</td>\n",
       "      <td>319</td>\n",
       "      <td>/aadi-running-shoes-men/p/itm2b3542f509660?pid...</td>\n",
       "    </tr>\n",
       "    <tr>\n",
       "      <th>7</th>\n",
       "      <td>World Wear Footwear</td>\n",
       "      <td>world-wear-footwear-affordable-range-stylish-c...</td>\n",
       "      <td>3.7</td>\n",
       "      <td>348</td>\n",
       "      <td>/world-wear-footwear-affordable-range-stylish-...</td>\n",
       "    </tr>\n",
       "    <tr>\n",
       "      <th>8</th>\n",
       "      <td>BRUTON</td>\n",
       "      <td>bruton-fit-man-slip-sneakers-men</td>\n",
       "      <td>3.9</td>\n",
       "      <td>228</td>\n",
       "      <td>/bruton-fit-man-slip-sneakers-men/p/itmf3xrhvg...</td>\n",
       "    </tr>\n",
       "    <tr>\n",
       "      <th>9</th>\n",
       "      <td>BRUTON</td>\n",
       "      <td>bruton-fit-man-slip-sneakers-men</td>\n",
       "      <td>3.9</td>\n",
       "      <td>228</td>\n",
       "      <td>/bruton-fit-man-slip-sneakers-men/p/itmf6yvkvp...</td>\n",
       "    </tr>\n",
       "    <tr>\n",
       "      <th>10</th>\n",
       "      <td>Magnolia</td>\n",
       "      <td>magnolia-canvas-shoes-men</td>\n",
       "      <td>3.9</td>\n",
       "      <td>389</td>\n",
       "      <td>/magnolia-canvas-shoes-men/p/itmb42a681797f2d?...</td>\n",
       "    </tr>\n",
       "    <tr>\n",
       "      <th>11</th>\n",
       "      <td>aadi</td>\n",
       "      <td>aadi-casuals-men</td>\n",
       "      <td>4.1</td>\n",
       "      <td>499</td>\n",
       "      <td>/aadi-casuals-men/p/itmfgef2t8yxzrhb?pid=SHOFG...</td>\n",
       "    </tr>\n",
       "    <tr>\n",
       "      <th>12</th>\n",
       "      <td>BIRDE</td>\n",
       "      <td>birde-sports-running-shoes-sneakers-men</td>\n",
       "      <td>3.8</td>\n",
       "      <td>299</td>\n",
       "      <td>/birde-sports-running-shoes-sneakers-men/p/itm...</td>\n",
       "    </tr>\n",
       "    <tr>\n",
       "      <th>13</th>\n",
       "      <td>ASIAN</td>\n",
       "      <td>asian-elasto-02-sports-shoes-women-running-gir...</td>\n",
       "      <td>4.2</td>\n",
       "      <td>606</td>\n",
       "      <td>/asian-elasto-02-sports-shoes-women-running-gi...</td>\n",
       "    </tr>\n",
       "    <tr>\n",
       "      <th>14</th>\n",
       "      <td>HOTSTYLE</td>\n",
       "      <td>hotstyle-running-shoes-men</td>\n",
       "      <td>3.8</td>\n",
       "      <td>249</td>\n",
       "      <td>/hotstyle-running-shoes-men/p/itm5694b3a1d6910...</td>\n",
       "    </tr>\n",
       "    <tr>\n",
       "      <th>15</th>\n",
       "      <td>density</td>\n",
       "      <td>density-socks-running-shoes-men</td>\n",
       "      <td>4.1</td>\n",
       "      <td>399</td>\n",
       "      <td>/density-socks-running-shoes-men/p/itm3f19bb00...</td>\n",
       "    </tr>\n",
       "    <tr>\n",
       "      <th>16</th>\n",
       "      <td>BRUTON</td>\n",
       "      <td>bruton-trendy-men-sports-running-shoes</td>\n",
       "      <td>3.8</td>\n",
       "      <td>296</td>\n",
       "      <td>/bruton-trendy-men-sports-running-shoes/p/itm5...</td>\n",
       "    </tr>\n",
       "    <tr>\n",
       "      <th>17</th>\n",
       "      <td>BIRDE</td>\n",
       "      <td>birde-running-shoes-men</td>\n",
       "      <td>3.9</td>\n",
       "      <td>339</td>\n",
       "      <td>/birde-running-shoes-men/p/itmb1585bb311bfd?pi...</td>\n",
       "    </tr>\n",
       "    <tr>\n",
       "      <th>18</th>\n",
       "      <td>ASIAN</td>\n",
       "      <td>asian-hattrick-21-sports-shoes-men-latest-styl...</td>\n",
       "      <td>4</td>\n",
       "      <td>699</td>\n",
       "      <td>/asian-hattrick-21-sports-shoes-men-latest-sty...</td>\n",
       "    </tr>\n",
       "    <tr>\n",
       "      <th>19</th>\n",
       "      <td>ASIAN</td>\n",
       "      <td>asian-cosko-sports-shoes-running-shoes-walking...</td>\n",
       "      <td>4.1</td>\n",
       "      <td>574</td>\n",
       "      <td>/asian-cosko-sports-shoes-running-shoes-walkin...</td>\n",
       "    </tr>\n",
       "    <tr>\n",
       "      <th>20</th>\n",
       "      <td>ASIAN</td>\n",
       "      <td>asian-oxygen-01-navy-running-shoes-dual-capsul...</td>\n",
       "      <td>4.1</td>\n",
       "      <td>999</td>\n",
       "      <td>/asian-oxygen-01-navy-running-shoes-dual-capsu...</td>\n",
       "    </tr>\n",
       "    <tr>\n",
       "      <th>21</th>\n",
       "      <td>ASIAN</td>\n",
       "      <td>asian-wndr-13-sports-shoes-men-latest-stylish-...</td>\n",
       "      <td>4.1</td>\n",
       "      <td>499</td>\n",
       "      <td>/asian-wndr-13-sports-shoes-men-latest-stylish...</td>\n",
       "    </tr>\n",
       "    <tr>\n",
       "      <th>22</th>\n",
       "      <td>Kzaara</td>\n",
       "      <td>kzaara-slip-sneakers-men</td>\n",
       "      <td>3.9</td>\n",
       "      <td>259</td>\n",
       "      <td>/kzaara-slip-sneakers-men/p/itm5c13352c04e0a?p...</td>\n",
       "    </tr>\n",
       "    <tr>\n",
       "      <th>23</th>\n",
       "      <td>K' Footlance</td>\n",
       "      <td>k-footlance-loafers-men</td>\n",
       "      <td>3.8</td>\n",
       "      <td>319</td>\n",
       "      <td>/k-footlance-loafers-men/p/itm87e4b44685a46?pi...</td>\n",
       "    </tr>\n",
       "    <tr>\n",
       "      <th>24</th>\n",
       "      <td>Kraasa</td>\n",
       "      <td>kraasa-loafers-men</td>\n",
       "      <td>3.7</td>\n",
       "      <td>444</td>\n",
       "      <td>/kraasa-loafers-men/p/itmb4683ce0a1697?pid=SHO...</td>\n",
       "    </tr>\n",
       "    <tr>\n",
       "      <th>25</th>\n",
       "      <td>HOTSTYLE</td>\n",
       "      <td>hotstyle-sneakers-men</td>\n",
       "      <td>3.8</td>\n",
       "      <td>296</td>\n",
       "      <td>/hotstyle-sneakers-men/p/itm071be697faf47?pid=...</td>\n",
       "    </tr>\n",
       "    <tr>\n",
       "      <th>26</th>\n",
       "      <td>HOTSTYLE</td>\n",
       "      <td>hotstyle-designer-loafers-men</td>\n",
       "      <td>4</td>\n",
       "      <td>284</td>\n",
       "      <td>/hotstyle-designer-loafers-men/p/itmf7nkvjaveh...</td>\n",
       "    </tr>\n",
       "    <tr>\n",
       "      <th>27</th>\n",
       "      <td>ESSENCE</td>\n",
       "      <td>essence-trendy-walking-shoes-women</td>\n",
       "      <td>4</td>\n",
       "      <td>372</td>\n",
       "      <td>/essence-trendy-walking-shoes-women/p/itme49a0...</td>\n",
       "    </tr>\n",
       "    <tr>\n",
       "      <th>28</th>\n",
       "      <td>ASIAN</td>\n",
       "      <td>asian-cosko-sports-shoes-running-shoes-walking...</td>\n",
       "      <td>4.1</td>\n",
       "      <td>574</td>\n",
       "      <td>/asian-cosko-sports-shoes-running-shoes-walkin...</td>\n",
       "    </tr>\n",
       "    <tr>\n",
       "      <th>29</th>\n",
       "      <td>BRUTON</td>\n",
       "      <td>bruton-cubic-1-running-shoes-men</td>\n",
       "      <td>3.8</td>\n",
       "      <td>273</td>\n",
       "      <td>/bruton-cubic-1-running-shoes-men/p/itmf3xw7a2...</td>\n",
       "    </tr>\n",
       "    <tr>\n",
       "      <th>30</th>\n",
       "      <td>ASIAN</td>\n",
       "      <td>asian-plasma-08-sports-shoes-men-latest-stylis...</td>\n",
       "      <td>3.9</td>\n",
       "      <td>624</td>\n",
       "      <td>/asian-plasma-08-sports-shoes-men-latest-styli...</td>\n",
       "    </tr>\n",
       "    <tr>\n",
       "      <th>31</th>\n",
       "      <td>ASIAN</td>\n",
       "      <td>asian-creta-12-sports-shoes-men-latest-stylish...</td>\n",
       "      <td>4</td>\n",
       "      <td>699</td>\n",
       "      <td>/asian-creta-12-sports-shoes-men-latest-stylis...</td>\n",
       "    </tr>\n",
       "    <tr>\n",
       "      <th>32</th>\n",
       "      <td>ASIAN</td>\n",
       "      <td>asian-oxygen-01-turquoise-running-shoes-dual-c...</td>\n",
       "      <td>4.1</td>\n",
       "      <td>999</td>\n",
       "      <td>/asian-oxygen-01-turquoise-running-shoes-dual-...</td>\n",
       "    </tr>\n",
       "    <tr>\n",
       "      <th>33</th>\n",
       "      <td>ASIAN</td>\n",
       "      <td>asian-hattrick-21-running-shoes-men</td>\n",
       "      <td>4</td>\n",
       "      <td>699</td>\n",
       "      <td>/asian-hattrick-21-running-shoes-men/p/itmec68...</td>\n",
       "    </tr>\n",
       "    <tr>\n",
       "      <th>34</th>\n",
       "      <td>ASIAN</td>\n",
       "      <td>asian-oxygen-01-grey-running-shoes-dual-capsul...</td>\n",
       "      <td>4.1</td>\n",
       "      <td>999</td>\n",
       "      <td>/asian-oxygen-01-grey-running-shoes-dual-capsu...</td>\n",
       "    </tr>\n",
       "    <tr>\n",
       "      <th>35</th>\n",
       "      <td>BRUTON</td>\n",
       "      <td>bruton-sports-shoes-walking-gym-shoes-running-men</td>\n",
       "      <td>3.8</td>\n",
       "      <td>283</td>\n",
       "      <td>/bruton-sports-shoes-walking-gym-shoes-running...</td>\n",
       "    </tr>\n",
       "    <tr>\n",
       "      <th>36</th>\n",
       "      <td>ASIAN</td>\n",
       "      <td>asian-cosko-sports-shoes-men-latest-stylish-ca...</td>\n",
       "      <td>4.1</td>\n",
       "      <td>574</td>\n",
       "      <td>/asian-cosko-sports-shoes-men-latest-stylish-c...</td>\n",
       "    </tr>\n",
       "    <tr>\n",
       "      <th>37</th>\n",
       "      <td>Kraasa</td>\n",
       "      <td>kraasa-shark-41-sneakers-men</td>\n",
       "      <td>3.7</td>\n",
       "      <td>444</td>\n",
       "      <td>/kraasa-shark-41-sneakers-men/p/itmbd16a913187...</td>\n",
       "    </tr>\n",
       "    <tr>\n",
       "      <th>38</th>\n",
       "      <td>Shoes Bank</td>\n",
       "      <td>shoes-bank-white-sneaker-men-s-boy-s-sneakers-men</td>\n",
       "      <td>3.9</td>\n",
       "      <td>345</td>\n",
       "      <td>/shoes-bank-white-sneaker-men-s-boy-s-sneakers...</td>\n",
       "    </tr>\n",
       "    <tr>\n",
       "      <th>39</th>\n",
       "      <td>T-ROCK</td>\n",
       "      <td>t-rock-loafers-men</td>\n",
       "      <td>4</td>\n",
       "      <td>379</td>\n",
       "      <td>/t-rock-loafers-men/p/itm5b758409d4828?pid=SHO...</td>\n",
       "    </tr>\n",
       "  </tbody>\n",
       "</table>\n",
       "</div>"
      ],
      "text/plain": [
       "                  brand                                      product_title  \\\n",
       "0   World Wear Footwear  world-wear-footwear-affordable-collection-styl...   \n",
       "1                 BIRDE        birde-combo-pack-2-sports-shoes-running-men   \n",
       "2                 BIRDE                            birde-walking-shoes-men   \n",
       "3                BRUTON             bruton-trendy-sports-running-shoes-men   \n",
       "4                 ASIAN  asian-rider-01-white-running-shoes-men-sport-b...   \n",
       "5                 Axter  axter-exclusive-range-stylish-casual-walking-c...   \n",
       "6                  aadi                             aadi-running-shoes-men   \n",
       "7   World Wear Footwear  world-wear-footwear-affordable-range-stylish-c...   \n",
       "8                BRUTON                   bruton-fit-man-slip-sneakers-men   \n",
       "9                BRUTON                   bruton-fit-man-slip-sneakers-men   \n",
       "10             Magnolia                          magnolia-canvas-shoes-men   \n",
       "11                 aadi                                   aadi-casuals-men   \n",
       "12                BIRDE            birde-sports-running-shoes-sneakers-men   \n",
       "13                ASIAN  asian-elasto-02-sports-shoes-women-running-gir...   \n",
       "14             HOTSTYLE                         hotstyle-running-shoes-men   \n",
       "15              density                    density-socks-running-shoes-men   \n",
       "16               BRUTON             bruton-trendy-men-sports-running-shoes   \n",
       "17                BIRDE                            birde-running-shoes-men   \n",
       "18                ASIAN  asian-hattrick-21-sports-shoes-men-latest-styl...   \n",
       "19                ASIAN  asian-cosko-sports-shoes-running-shoes-walking...   \n",
       "20                ASIAN  asian-oxygen-01-navy-running-shoes-dual-capsul...   \n",
       "21                ASIAN  asian-wndr-13-sports-shoes-men-latest-stylish-...   \n",
       "22               Kzaara                           kzaara-slip-sneakers-men   \n",
       "23         K' Footlance                            k-footlance-loafers-men   \n",
       "24               Kraasa                                 kraasa-loafers-men   \n",
       "25             HOTSTYLE                              hotstyle-sneakers-men   \n",
       "26             HOTSTYLE                      hotstyle-designer-loafers-men   \n",
       "27              ESSENCE                 essence-trendy-walking-shoes-women   \n",
       "28                ASIAN  asian-cosko-sports-shoes-running-shoes-walking...   \n",
       "29               BRUTON                   bruton-cubic-1-running-shoes-men   \n",
       "30                ASIAN  asian-plasma-08-sports-shoes-men-latest-stylis...   \n",
       "31                ASIAN  asian-creta-12-sports-shoes-men-latest-stylish...   \n",
       "32                ASIAN  asian-oxygen-01-turquoise-running-shoes-dual-c...   \n",
       "33                ASIAN                asian-hattrick-21-running-shoes-men   \n",
       "34                ASIAN  asian-oxygen-01-grey-running-shoes-dual-capsul...   \n",
       "35               BRUTON  bruton-sports-shoes-walking-gym-shoes-running-men   \n",
       "36                ASIAN  asian-cosko-sports-shoes-men-latest-stylish-ca...   \n",
       "37               Kraasa                       kraasa-shark-41-sneakers-men   \n",
       "38           Shoes Bank  shoes-bank-white-sneaker-men-s-boy-s-sneakers-men   \n",
       "39               T-ROCK                                 t-rock-loafers-men   \n",
       "\n",
       "   overall_rating  price                                        product_url  \n",
       "0             3.7    245  /world-wear-footwear-affordable-collection-sty...  \n",
       "1             3.6    559  /birde-combo-pack-2-sports-shoes-running-men/p...  \n",
       "2             3.8    535  /birde-walking-shoes-men/p/itm34da835b8e711?pi...  \n",
       "3            None    299  /bruton-trendy-sports-running-shoes-men/p/itm6...  \n",
       "4               4  1,099  /asian-rider-01-white-running-shoes-men-sport-...  \n",
       "5             3.7    259  /axter-exclusive-range-stylish-casual-walking-...  \n",
       "6             3.7    319  /aadi-running-shoes-men/p/itm2b3542f509660?pid...  \n",
       "7             3.7    348  /world-wear-footwear-affordable-range-stylish-...  \n",
       "8             3.9    228  /bruton-fit-man-slip-sneakers-men/p/itmf3xrhvg...  \n",
       "9             3.9    228  /bruton-fit-man-slip-sneakers-men/p/itmf6yvkvp...  \n",
       "10            3.9    389  /magnolia-canvas-shoes-men/p/itmb42a681797f2d?...  \n",
       "11            4.1    499  /aadi-casuals-men/p/itmfgef2t8yxzrhb?pid=SHOFG...  \n",
       "12            3.8    299  /birde-sports-running-shoes-sneakers-men/p/itm...  \n",
       "13            4.2    606  /asian-elasto-02-sports-shoes-women-running-gi...  \n",
       "14            3.8    249  /hotstyle-running-shoes-men/p/itm5694b3a1d6910...  \n",
       "15            4.1    399  /density-socks-running-shoes-men/p/itm3f19bb00...  \n",
       "16            3.8    296  /bruton-trendy-men-sports-running-shoes/p/itm5...  \n",
       "17            3.9    339  /birde-running-shoes-men/p/itmb1585bb311bfd?pi...  \n",
       "18              4    699  /asian-hattrick-21-sports-shoes-men-latest-sty...  \n",
       "19            4.1    574  /asian-cosko-sports-shoes-running-shoes-walkin...  \n",
       "20            4.1    999  /asian-oxygen-01-navy-running-shoes-dual-capsu...  \n",
       "21            4.1    499  /asian-wndr-13-sports-shoes-men-latest-stylish...  \n",
       "22            3.9    259  /kzaara-slip-sneakers-men/p/itm5c13352c04e0a?p...  \n",
       "23            3.8    319  /k-footlance-loafers-men/p/itm87e4b44685a46?pi...  \n",
       "24            3.7    444  /kraasa-loafers-men/p/itmb4683ce0a1697?pid=SHO...  \n",
       "25            3.8    296  /hotstyle-sneakers-men/p/itm071be697faf47?pid=...  \n",
       "26              4    284  /hotstyle-designer-loafers-men/p/itmf7nkvjaveh...  \n",
       "27              4    372  /essence-trendy-walking-shoes-women/p/itme49a0...  \n",
       "28            4.1    574  /asian-cosko-sports-shoes-running-shoes-walkin...  \n",
       "29            3.8    273  /bruton-cubic-1-running-shoes-men/p/itmf3xw7a2...  \n",
       "30            3.9    624  /asian-plasma-08-sports-shoes-men-latest-styli...  \n",
       "31              4    699  /asian-creta-12-sports-shoes-men-latest-stylis...  \n",
       "32            4.1    999  /asian-oxygen-01-turquoise-running-shoes-dual-...  \n",
       "33              4    699  /asian-hattrick-21-running-shoes-men/p/itmec68...  \n",
       "34            4.1    999  /asian-oxygen-01-grey-running-shoes-dual-capsu...  \n",
       "35            3.8    283  /bruton-sports-shoes-walking-gym-shoes-running...  \n",
       "36            4.1    574  /asian-cosko-sports-shoes-men-latest-stylish-c...  \n",
       "37            3.7    444  /kraasa-shark-41-sneakers-men/p/itmbd16a913187...  \n",
       "38            3.9    345  /shoes-bank-white-sneaker-men-s-boy-s-sneakers...  \n",
       "39              4    379  /t-rock-loafers-men/p/itm5b758409d4828?pid=SHO...  "
      ]
     },
     "execution_count": 32,
     "metadata": {},
     "output_type": "execute_result"
    }
   ],
   "source": [
    "df"
   ]
  },
  {
   "cell_type": "code",
   "execution_count": 6,
   "metadata": {},
   "outputs": [],
   "source": [
    "# df.to_csv(\"shoes_flipkart2.csv\")     #to save dataset in local system"
   ]
  },
  {
   "cell_type": "markdown",
   "metadata": {},
   "source": [
    "### Product_title , username, rating , review_title , review , Location , date , upvotes , downvotes"
   ]
  },
  {
   "cell_type": "code",
   "execution_count": 33,
   "metadata": {},
   "outputs": [
    {
     "data": {
      "text/plain": [
       "'/world-wear-footwear-affordable-collection-stylish-sports-shoes-men-running/p/itmf24255ddad36f?pid=SHOFV2ADZEKYVY9W&lid=LSTSHOFV2ADZEKYVY9WGQ5TTY&marketplace=FLIPKART&q=shoes&store=osp&srno=s_1_1&otracker=search&otracker1=search&fm=organic&iid=953f27cc-cbaf-439d-b027-1574032b405f.SHOFV2ADZEKYVY9W.SEARCH&ppt=None&ppn=None&ssid=yi96ym88kw0000001642425265156&qH=b0a8b6f820479900'"
      ]
     },
     "execution_count": 33,
     "metadata": {},
     "output_type": "execute_result"
    }
   ],
   "source": [
    "df.product_url[0]"
   ]
  },
  {
   "cell_type": "code",
   "execution_count": 34,
   "metadata": {},
   "outputs": [],
   "source": [
    "reviews = []\n",
    "page = parsed(f\"https://www.flipkart.com{df.product_url[0]}\")\n",
    "review_tag = page.find_all(\"div\",{\"class\":\"_6K-7Co\"})\n",
    "for i in review_tag:\n",
    "    reviews.append(i.text)"
   ]
  },
  {
   "cell_type": "code",
   "execution_count": 35,
   "metadata": {},
   "outputs": [
    {
     "data": {
      "text/plain": [
       "['How is it look but not that is ...so ghatiya',\n",
       " 'Bad shoes',\n",
       " 'The shoes quality is Zero']"
      ]
     },
     "execution_count": 35,
     "metadata": {},
     "output_type": "execute_result"
    }
   ],
   "source": [
    "reviews"
   ]
  },
  {
   "cell_type": "code",
   "execution_count": 36,
   "metadata": {
    "scrolled": true
   },
   "outputs": [
    {
     "data": {
      "text/plain": [
       "0     /world-wear-footwear-affordable-collection-sty...\n",
       "1     /birde-combo-pack-2-sports-shoes-running-men/p...\n",
       "2     /birde-walking-shoes-men/p/itm34da835b8e711?pi...\n",
       "3     /bruton-trendy-sports-running-shoes-men/p/itm6...\n",
       "4     /asian-rider-01-white-running-shoes-men-sport-...\n",
       "5     /axter-exclusive-range-stylish-casual-walking-...\n",
       "6     /aadi-running-shoes-men/p/itm2b3542f509660?pid...\n",
       "7     /world-wear-footwear-affordable-range-stylish-...\n",
       "8     /bruton-fit-man-slip-sneakers-men/p/itmf3xrhvg...\n",
       "9     /bruton-fit-man-slip-sneakers-men/p/itmf6yvkvp...\n",
       "10    /magnolia-canvas-shoes-men/p/itmb42a681797f2d?...\n",
       "11    /aadi-casuals-men/p/itmfgef2t8yxzrhb?pid=SHOFG...\n",
       "12    /birde-sports-running-shoes-sneakers-men/p/itm...\n",
       "13    /asian-elasto-02-sports-shoes-women-running-gi...\n",
       "14    /hotstyle-running-shoes-men/p/itm5694b3a1d6910...\n",
       "15    /density-socks-running-shoes-men/p/itm3f19bb00...\n",
       "16    /bruton-trendy-men-sports-running-shoes/p/itm5...\n",
       "17    /birde-running-shoes-men/p/itmb1585bb311bfd?pi...\n",
       "18    /asian-hattrick-21-sports-shoes-men-latest-sty...\n",
       "19    /asian-cosko-sports-shoes-running-shoes-walkin...\n",
       "20    /asian-oxygen-01-navy-running-shoes-dual-capsu...\n",
       "21    /asian-wndr-13-sports-shoes-men-latest-stylish...\n",
       "22    /kzaara-slip-sneakers-men/p/itm5c13352c04e0a?p...\n",
       "23    /k-footlance-loafers-men/p/itm87e4b44685a46?pi...\n",
       "24    /kraasa-loafers-men/p/itmb4683ce0a1697?pid=SHO...\n",
       "25    /hotstyle-sneakers-men/p/itm071be697faf47?pid=...\n",
       "26    /hotstyle-designer-loafers-men/p/itmf7nkvjaveh...\n",
       "27    /essence-trendy-walking-shoes-women/p/itme49a0...\n",
       "28    /asian-cosko-sports-shoes-running-shoes-walkin...\n",
       "29    /bruton-cubic-1-running-shoes-men/p/itmf3xw7a2...\n",
       "30    /asian-plasma-08-sports-shoes-men-latest-styli...\n",
       "31    /asian-creta-12-sports-shoes-men-latest-stylis...\n",
       "32    /asian-oxygen-01-turquoise-running-shoes-dual-...\n",
       "33    /asian-hattrick-21-running-shoes-men/p/itmec68...\n",
       "34    /asian-oxygen-01-grey-running-shoes-dual-capsu...\n",
       "35    /bruton-sports-shoes-walking-gym-shoes-running...\n",
       "36    /asian-cosko-sports-shoes-men-latest-stylish-c...\n",
       "37    /kraasa-shark-41-sneakers-men/p/itmbd16a913187...\n",
       "38    /shoes-bank-white-sneaker-men-s-boy-s-sneakers...\n",
       "39    /t-rock-loafers-men/p/itm5b758409d4828?pid=SHO...\n",
       "Name: product_url, dtype: object"
      ]
     },
     "execution_count": 36,
     "metadata": {},
     "output_type": "execute_result"
    }
   ],
   "source": [
    "df.product_url"
   ]
  },
  {
   "cell_type": "code",
   "execution_count": 45,
   "metadata": {},
   "outputs": [
    {
     "data": {
      "text/plain": [
       "True"
      ]
     },
     "execution_count": 45,
     "metadata": {},
     "output_type": "execute_result"
    }
   ],
   "source": [
    "\"itmf24255ddad36f?pid=SHOFV2ADZEKYVY9W&lid=LSTSHOFV2ADZEKYVY9WGQ5TTY&marketplace=FLIPKART\" == \"itmf24255ddad36f?pid=SHOFV2ADZEKYVY9W&lid=LSTSHOFV2ADZEKYVY9WGQ5TTY&marketplace=FLIPKART\""
   ]
  },
  {
   "cell_type": "code",
   "execution_count": 37,
   "metadata": {},
   "outputs": [
    {
     "data": {
      "text/plain": [
       "'world-wear-footwear-affordable-collection-stylish-sports-shoes-men-running'"
      ]
     },
     "execution_count": 37,
     "metadata": {},
     "output_type": "execute_result"
    }
   ],
   "source": [
    "df.product_title[0]"
   ]
  },
  {
   "cell_type": "code",
   "execution_count": 41,
   "metadata": {},
   "outputs": [],
   "source": [
    "r_select = \"/product-reviews/itmd6ee8e25bbf4d?pid=SHOFSM8UJTSPYZD5&lid=LSTSHOFSM8UJTSPYZD5JW3LFK&marketplace=FLIPKART\""
   ]
  },
  {
   "cell_type": "markdown",
   "metadata": {},
   "source": [
    "username, rating , review_title , review , Location , date , upvotes , downvotes"
   ]
  },
  {
   "cell_type": "code",
   "execution_count": 39,
   "metadata": {},
   "outputs": [
    {
     "data": {
      "text/plain": [
       "0     world-wear-footwear-affordable-collection-styl...\n",
       "1           birde-combo-pack-2-sports-shoes-running-men\n",
       "2                               birde-walking-shoes-men\n",
       "3                bruton-trendy-sports-running-shoes-men\n",
       "4     asian-rider-01-white-running-shoes-men-sport-b...\n",
       "5     axter-exclusive-range-stylish-casual-walking-c...\n",
       "6                                aadi-running-shoes-men\n",
       "7     world-wear-footwear-affordable-range-stylish-c...\n",
       "8                      bruton-fit-man-slip-sneakers-men\n",
       "9                      bruton-fit-man-slip-sneakers-men\n",
       "10                            magnolia-canvas-shoes-men\n",
       "11                                     aadi-casuals-men\n",
       "12              birde-sports-running-shoes-sneakers-men\n",
       "13    asian-elasto-02-sports-shoes-women-running-gir...\n",
       "14                           hotstyle-running-shoes-men\n",
       "15                      density-socks-running-shoes-men\n",
       "16               bruton-trendy-men-sports-running-shoes\n",
       "17                              birde-running-shoes-men\n",
       "18    asian-hattrick-21-sports-shoes-men-latest-styl...\n",
       "19    asian-cosko-sports-shoes-running-shoes-walking...\n",
       "20    asian-oxygen-01-navy-running-shoes-dual-capsul...\n",
       "21    asian-wndr-13-sports-shoes-men-latest-stylish-...\n",
       "22                             kzaara-slip-sneakers-men\n",
       "23                              k-footlance-loafers-men\n",
       "24                                   kraasa-loafers-men\n",
       "25                                hotstyle-sneakers-men\n",
       "26                        hotstyle-designer-loafers-men\n",
       "27                   essence-trendy-walking-shoes-women\n",
       "28    asian-cosko-sports-shoes-running-shoes-walking...\n",
       "29                     bruton-cubic-1-running-shoes-men\n",
       "30    asian-plasma-08-sports-shoes-men-latest-stylis...\n",
       "31    asian-creta-12-sports-shoes-men-latest-stylish...\n",
       "32    asian-oxygen-01-turquoise-running-shoes-dual-c...\n",
       "33                  asian-hattrick-21-running-shoes-men\n",
       "34    asian-oxygen-01-grey-running-shoes-dual-capsul...\n",
       "35    bruton-sports-shoes-walking-gym-shoes-running-men\n",
       "36    asian-cosko-sports-shoes-men-latest-stylish-ca...\n",
       "37                         kraasa-shark-41-sneakers-men\n",
       "38    shoes-bank-white-sneaker-men-s-boy-s-sneakers-men\n",
       "39                                   t-rock-loafers-men\n",
       "Name: product_title, dtype: object"
      ]
     },
     "execution_count": 39,
     "metadata": {},
     "output_type": "execute_result"
    }
   ],
   "source": [
    "df.product_title"
   ]
  },
  {
   "cell_type": "code",
   "execution_count": 57,
   "metadata": {},
   "outputs": [
    {
     "data": {
      "text/plain": [
       "'/world-wear-footwear-affordable-collection-stylish-sports-shoes-men-running/p/itmf24255ddad36f?pid=SHOFV2ADZEKYVY9W&lid=LSTSHOFV2ADZEKYVY9WGQ5TTY&marketplace=FLIPKART&q=shoes&store=osp&srno=s_1_1&otracker=search&otracker1=search&fm=organic&iid=953f27cc-cbaf-439d-b027-1574032b405f.SHOFV2ADZEKYVY9W.SEARCH&ppt=None&ppn=None&ssid=yi96ym88kw0000001642425265156&qH=b0a8b6f820479900'"
      ]
     },
     "execution_count": 57,
     "metadata": {},
     "output_type": "execute_result"
    }
   ],
   "source": [
    "prod_url = df.product_url[0]\n",
    "prod_url"
   ]
  },
  {
   "cell_type": "code",
   "execution_count": 69,
   "metadata": {},
   "outputs": [
    {
     "data": {
      "text/plain": [
       "'/world-wear-footwear-affordable-collection-stylish-sports-shoes-men-running/product-reviews/itmf24255ddad36f?pid=SHOFV2ADZEKYVY9W&lid=LSTSHOFV2ADZEKYVY9WGQ5TTY&marketplace=FLIPKART'"
      ]
     },
     "execution_count": 69,
     "metadata": {},
     "output_type": "execute_result"
    }
   ],
   "source": [
    "v  = prod_url.replace(\"/p/\",\"/product-reviews/\").split(\"&q=\")[0]\n",
    "v"
   ]
  },
  {
   "cell_type": "markdown",
   "metadata": {},
   "source": [
    "### Products reviews"
   ]
  },
  {
   "cell_type": "code",
   "execution_count": 82,
   "metadata": {},
   "outputs": [
    {
     "name": "stderr",
     "output_type": "stream",
     "text": [
      "100%|██████████████████████████████████████████████████████████████████████████████████| 40/40 [02:52<00:00,  4.30s/it]\n"
     ]
    }
   ],
   "source": [
    "from tqdm import tqdm\n",
    "prod_reviews = []\n",
    "for i in tqdm(df.product_url):\n",
    "    reviews = []\n",
    "    for k in range(1,6):    #getting 5 review pages\n",
    "        r_select = i.replace(\"/p/\",\"/product-reviews/\").split(\"&q=\")[0]\n",
    "        review_pages = f\"https://www.flipkart.com{r_select}&page={k}\"\n",
    "        page = parsed(review_pages)\n",
    "        review_tag = page.find_all(\"div\",{\"class\":\"_6K-7Co\"})\n",
    "        for j in review_tag:\n",
    "            reviews.append(j.text)\n",
    "    prod_reviews.append(reviews)"
   ]
  },
  {
   "cell_type": "markdown",
   "metadata": {},
   "source": [
    "13-08-2021"
   ]
  },
  {
   "cell_type": "code",
   "execution_count": 84,
   "metadata": {},
   "outputs": [],
   "source": [
    "# r_select is different for every product"
   ]
  },
  {
   "cell_type": "code",
   "execution_count": 103,
   "metadata": {},
   "outputs": [
    {
     "data": {
      "text/plain": [
       "'/echor-men-s-sneakers-fashion-lightweight-running-shoes-tennis-casual-walking-men/p/itm5de2f0b5e4bf7?pid=SHOG7WG5XFMNKKWK&lid=LSTSHOG7WG5XFMNKKWKYCDIOJ&marketplace=FLIPKART&q=shoes&store=osp&srno=s_1_1&otracker=search&otracker1=search&fm=organic&iid=en_Ka87Q0i7hWSYlnO8f1xpbgVU%2FseeuRcAgKmfWjM11ccQHswfva1zEFsARhosMH7s9hvhUromfiTPthwxpIxtNw%3D%3D&ppt=None&ppn=None&ssid=0ivxaqt75c0000001642347744905&qH=b0a8b6f820479900'"
      ]
     },
     "execution_count": 103,
     "metadata": {},
     "output_type": "execute_result"
    }
   ],
   "source": [
    "df.product_url[0]"
   ]
  },
  {
   "cell_type": "markdown",
   "metadata": {},
   "source": [
    "### Review Star"
   ]
  },
  {
   "cell_type": "code",
   "execution_count": 90,
   "metadata": {},
   "outputs": [],
   "source": [
    "u = \"https://www.flipkart.com/echor-men-s-sneakers-fashion-lightweight-running-shoes-tennis-casual-walking-men/product-reviews/itmd6ee8e25bbf4d?pid=SHOFSM8UJTSPYZD5&lid=LSTSHOFSM8UJTSPYZD5JW3LFK&marketplace=FLIPKART&page=54\"\n",
    "p = parsed(u)\n",
    "outer_tag = p.find(\"div\",{\"class\":\"_1YokD2 _3Mn1Gg col-9-12\"})\n",
    "ot = outer_tag.find_all(\"div\",{\"class\":\"_1AtVbE col-12-12\"})"
   ]
  },
  {
   "cell_type": "code",
   "execution_count": 94,
   "metadata": {
    "scrolled": true
   },
   "outputs": [
    {
     "data": {
      "text/plain": [
       "<div class=\"_3LWZlK _1BLPMq _3B8WaH\">5<img class=\"_1wB99o\" src=\"data:image/svg+xml;base64,PHN2ZyB4bWxucz0iaHR0cDovL3d3dy53My5vcmcvMjAwMC9zdmciIHdpZHRoPSIxMyIgaGVpZ2h0PSIxMiI+PHBhdGggZmlsbD0iI0ZGRiIgZD0iTTYuNSA5LjQzOWwtMy42NzQgMi4yMy45NC00LjI2LTMuMjEtMi44ODMgNC4yNTQtLjQwNEw2LjUuMTEybDEuNjkgNC4wMSA0LjI1NC40MDQtMy4yMSAyLjg4Mi45NCA0LjI2eiIvPjwvc3ZnPg==\"/></div>"
      ]
     },
     "execution_count": 94,
     "metadata": {},
     "output_type": "execute_result"
    }
   ],
   "source": [
    "ot[0].find(\"div\",{\"class\":\"_3LWZlK _1BLPMq _3B8WaH\"})"
   ]
  },
  {
   "cell_type": "code",
   "execution_count": 106,
   "metadata": {},
   "outputs": [],
   "source": [
    "if len(ot)==11:\n",
    "    ot = ot[:-1]\n",
    "elif len(ot)==12:\n",
    "    ot = ot[1:-1]"
   ]
  },
  {
   "cell_type": "code",
   "execution_count": 97,
   "metadata": {},
   "outputs": [],
   "source": [
    "u = \"https://www.flipkart.com/echor-men-s-sneakers-fashion-lightweight-running-shoes-tennis-casual-walking-men/product-reviews/itmd6ee8e25bbf4d?pid=SHOFSM8UJTSPYZD5&lid=LSTSHOFSM8UJTSPYZD5JW3LFK&marketplace=FLIPKART&page=54\"\n",
    "p = parsed(u)\n",
    "l = []\n",
    "for i in range(1):      \n",
    "    outer_tag = p.find(\"div\",{\"class\":\"_1YokD2 _3Mn1Gg col-9-12\"})\n",
    "    ot = outer_tag.find_all(\"div\",{\"class\":\"_1AtVbE col-12-12\"})\n",
    "    if len(ot)==11:\n",
    "        ot = ot[:-1]\n",
    "    elif len(ot)==12:\n",
    "        ot = ot[1:-1]\n",
    "    star = []\n",
    "    for i in ot:\n",
    "        star_tag = i.find(\"div\",{\"class\":\"_3LWZlK _1BLPMq _3B8WaH\"})  #3-4-5 star\n",
    "        if star_tag is None:      #If find() can’t find anything, it returns None\n",
    "            star_tag = i.find(\"div\",{\"class\":\"_3LWZlK _32lA32 _1BLPMq _3B8WaH\"}) #2 star\n",
    "            if star_tag is None:\n",
    "                star_tag = i.find(\"div\",{\"class\":\"_3LWZlK _1rdVr6 _1BLPMq _3B8WaH\"}) #1 star\n",
    "        star.append(star_tag.text)  \n",
    "    l.append(star)"
   ]
  },
  {
   "cell_type": "code",
   "execution_count": 98,
   "metadata": {},
   "outputs": [
    {
     "data": {
      "text/plain": [
       "[['5', '5', '5', '5', '4', '5', '4', '5', '2', '4']]"
      ]
     },
     "execution_count": 98,
     "metadata": {},
     "output_type": "execute_result"
    }
   ],
   "source": [
    "l"
   ]
  },
  {
   "cell_type": "code",
   "execution_count": 99,
   "metadata": {},
   "outputs": [],
   "source": [
    "#To get how many review pages are there \n",
    "def get_review_page_no(parsed_page):           #getting parsed page of product as argument\n",
    "    r = parsed_page.find(\"span\",{\"class\":\"_2_R_DZ\"})  #class is common for all products\n",
    "    s = r.text\n",
    "    results = int(s.split()[3].replace(\",\",\"\"))\n",
    "    pages = int(results/10)\n",
    "    return pages"
   ]
  },
  {
   "cell_type": "markdown",
   "metadata": {},
   "source": [
    "#### we have a product and we are trying to fetch all the reviews of that particular product with rating of review, date of review, username, location  "
   ]
  },
  {
   "cell_type": "code",
   "execution_count": 120,
   "metadata": {},
   "outputs": [
    {
     "data": {
      "text/plain": [
       "'/world-wear-footwear-affordable-collection-stylish-sports-shoes-men-running/p/itmf24255ddad36f?pid=SHOFV2ADZEKYVY9W&lid=LSTSHOFV2ADZEKYVY9WGQ5TTY&marketplace=FLIPKART&q=shoes&store=osp&srno=s_1_1&otracker=search&otracker1=search&fm=organic&iid=953f27cc-cbaf-439d-b027-1574032b405f.SHOFV2ADZEKYVY9W.SEARCH&ppt=None&ppn=None&ssid=yi96ym88kw0000001642425265156&qH=b0a8b6f820479900'"
      ]
     },
     "execution_count": 120,
     "metadata": {},
     "output_type": "execute_result"
    }
   ],
   "source": [
    "df.product_url[0]"
   ]
  },
  {
   "cell_type": "code",
   "execution_count": 155,
   "metadata": {},
   "outputs": [],
   "source": [
    "def get_reviews(prod_url):\n",
    "    from tqdm import tqdm\n",
    "    import pandas as pd\n",
    "    user_name = []\n",
    "    user_rating = []\n",
    "    user_location = []\n",
    "    dor = []    #date of review\n",
    "    user_reviews = []\n",
    "#     no_of_rev_pages = get_review_page_no(prod_parsed_url)\n",
    "    \n",
    "    for k in tqdm(range(1,6)):    #getting 5 review pages\n",
    "        r_select = prod_url.replace(\"/p/\",\"/product-reviews/\").split(\"&q=\")[0]\n",
    "        review_pages = f\"{r_select}&page={k}\"\n",
    "        page = parsed(review_pages)\n",
    "        outer_tag = page.find(\"div\",{\"class\":\"_1YokD2 _3Mn1Gg col-9-12\"})\n",
    "        \n",
    "        #getting user_reviews\n",
    "        review_tag = outer_tag.find_all(\"div\",{\"class\":\"_6K-7Co\"})\n",
    "        for j in review_tag:\n",
    "            user_reviews.append(j.text)\n",
    "            \n",
    "        #getting user_name\n",
    "        name_tags = outer_tag.find_all(\"p\",{\"class\":\"_2sc7ZR _2V5EHH _1QgsS5\"})\n",
    "        for j in name_tags:\n",
    "            user_name.append(j.text)\n",
    "            \n",
    "        #getting user_rating\n",
    "        ot = outer_tag.find_all(\"div\",{\"class\":\"_1AtVbE col-12-12\"})\n",
    "        if len(ot)==11:\n",
    "            ot = ot[:-1]\n",
    "        elif len(ot)==12:\n",
    "            ot = ot[1:-1]\n",
    "        for i in ot:\n",
    "            star_tag = i.find(\"div\",{\"class\":\"_3LWZlK _1BLPMq _3B8WaH\"})  #3-4-5 star\n",
    "            if star_tag is None:      #If find() can’t find anything, it returns None\n",
    "                star_tag = i.find(\"div\",{\"class\":\"_3LWZlK _32lA32 _1BLPMq _3B8WaH\"}) #2 star\n",
    "                if star_tag is None:\n",
    "                    star_tag = i.find(\"div\",{\"class\":\"_3LWZlK _1rdVr6 _1BLPMq _3B8WaH\"}) #1 star\n",
    "            if star_tag is None:\n",
    "                user_rating.append(None)\n",
    "            else:\n",
    "                user_rating.append(star_tag.text)  \n",
    "            \n",
    "        #getting user_location\n",
    "        loc_tags = outer_tag.find_all(\"p\",{\"class\":\"_2mcZGG\"})\n",
    "        for l in loc_tags:\n",
    "            ls = l.text.split(\",\")\n",
    "            if len(ls)==1:\n",
    "                user_location.append(\"\")\n",
    "            else:\n",
    "                user_location.append(l.text.split(\",\")[1].strip())\n",
    "        \n",
    "        #getting date_of_review\n",
    "        date_tags = outer_tag.find_all(\"p\",{\"class\":\"_2sc7ZR\"})\n",
    "        c=0\n",
    "        for d in date_tags:\n",
    "            if c==0:\n",
    "                c=1\n",
    "                continue\n",
    "            else:\n",
    "                c=0\n",
    "                dor.append(d.text)\n",
    "                \n",
    "    reviews = {\"username\":user_name,\"Rating\":user_rating,\"date\":dor,\"location\":user_location,\"Review\":user_reviews}\n",
    "    df = pd.DataFrame(reviews)\n",
    "    return df"
   ]
  },
  {
   "cell_type": "code",
   "execution_count": 156,
   "metadata": {},
   "outputs": [
    {
     "name": "stdout",
     "output_type": "stream",
     "text": [
      "what you want to search - shoes\n"
     ]
    },
    {
     "name": "stderr",
     "output_type": "stream",
     "text": [
      "100%|████████████████████████████████████████████████████████████████████████████████████| 1/1 [00:44<00:00, 44.81s/it]\n"
     ]
    }
   ],
   "source": [
    "product = input(\"what you want to search - \")\n",
    "url  = f\"https://www.flipkart.com/search?q={product}&otracker=search&otracker1=search&marketplace=FLIPKART&as-show=on&as=off\"\n",
    "df = get_dataset(url)"
   ]
  },
  {
   "cell_type": "code",
   "execution_count": 157,
   "metadata": {
    "scrolled": true
   },
   "outputs": [
    {
     "data": {
      "text/html": [
       "<div>\n",
       "<style scoped>\n",
       "    .dataframe tbody tr th:only-of-type {\n",
       "        vertical-align: middle;\n",
       "    }\n",
       "\n",
       "    .dataframe tbody tr th {\n",
       "        vertical-align: top;\n",
       "    }\n",
       "\n",
       "    .dataframe thead th {\n",
       "        text-align: right;\n",
       "    }\n",
       "</style>\n",
       "<table border=\"1\" class=\"dataframe\">\n",
       "  <thead>\n",
       "    <tr style=\"text-align: right;\">\n",
       "      <th></th>\n",
       "      <th>brand</th>\n",
       "      <th>product_title</th>\n",
       "      <th>overall_rating</th>\n",
       "      <th>price</th>\n",
       "      <th>product_url</th>\n",
       "    </tr>\n",
       "  </thead>\n",
       "  <tbody>\n",
       "    <tr>\n",
       "      <th>0</th>\n",
       "      <td>World Wear Footwear</td>\n",
       "      <td>world-wear-footwear-affordable-collection-styl...</td>\n",
       "      <td>3.8</td>\n",
       "      <td>245</td>\n",
       "      <td>/world-wear-footwear-affordable-collection-sty...</td>\n",
       "    </tr>\n",
       "    <tr>\n",
       "      <th>1</th>\n",
       "      <td>BIRDE</td>\n",
       "      <td>birde-combo-pack-2-sports-shoes-running-men</td>\n",
       "      <td>3.6</td>\n",
       "      <td>559</td>\n",
       "      <td>/birde-combo-pack-2-sports-shoes-running-men/p...</td>\n",
       "    </tr>\n",
       "    <tr>\n",
       "      <th>2</th>\n",
       "      <td>BIRDE</td>\n",
       "      <td>birde-walking-shoes-men</td>\n",
       "      <td>3.8</td>\n",
       "      <td>535</td>\n",
       "      <td>/birde-walking-shoes-men/p/itm34da835b8e711?pi...</td>\n",
       "    </tr>\n",
       "    <tr>\n",
       "      <th>3</th>\n",
       "      <td>ASIAN</td>\n",
       "      <td>asian-rider-01-white-running-shoes-men-sport-b...</td>\n",
       "      <td>4</td>\n",
       "      <td>1,099</td>\n",
       "      <td>/asian-rider-01-white-running-shoes-men-sport-...</td>\n",
       "    </tr>\n",
       "    <tr>\n",
       "      <th>4</th>\n",
       "      <td>aadi</td>\n",
       "      <td>aadi-running-shoes-men</td>\n",
       "      <td>3.7</td>\n",
       "      <td>319</td>\n",
       "      <td>/aadi-running-shoes-men/p/itm2b3542f509660?pid...</td>\n",
       "    </tr>\n",
       "    <tr>\n",
       "      <th>5</th>\n",
       "      <td>BRUTON</td>\n",
       "      <td>bruton-trendy-sports-running-shoes-men</td>\n",
       "      <td>3.8</td>\n",
       "      <td>299</td>\n",
       "      <td>/bruton-trendy-sports-running-shoes-men/p/itm6...</td>\n",
       "    </tr>\n",
       "    <tr>\n",
       "      <th>6</th>\n",
       "      <td>HOTSTYLE</td>\n",
       "      <td>hotstyle-running-shoes-men</td>\n",
       "      <td>3.8</td>\n",
       "      <td>249</td>\n",
       "      <td>/hotstyle-running-shoes-men/p/itm5694b3a1d6910...</td>\n",
       "    </tr>\n",
       "    <tr>\n",
       "      <th>7</th>\n",
       "      <td>Axter</td>\n",
       "      <td>axter-exclusive-range-stylish-casual-walking-c...</td>\n",
       "      <td>3.7</td>\n",
       "      <td>259</td>\n",
       "      <td>/axter-exclusive-range-stylish-casual-walking-...</td>\n",
       "    </tr>\n",
       "    <tr>\n",
       "      <th>8</th>\n",
       "      <td>BRUTON</td>\n",
       "      <td>bruton-fit-man-slip-sneakers-men</td>\n",
       "      <td>3.9</td>\n",
       "      <td>228</td>\n",
       "      <td>/bruton-fit-man-slip-sneakers-men/p/itmf3xrhvg...</td>\n",
       "    </tr>\n",
       "    <tr>\n",
       "      <th>9</th>\n",
       "      <td>BRUTON</td>\n",
       "      <td>bruton-fit-man-slip-sneakers-men</td>\n",
       "      <td>3.9</td>\n",
       "      <td>228</td>\n",
       "      <td>/bruton-fit-man-slip-sneakers-men/p/itmf6yvkvp...</td>\n",
       "    </tr>\n",
       "    <tr>\n",
       "      <th>10</th>\n",
       "      <td>BIRDE</td>\n",
       "      <td>birde-sports-running-shoes-sneakers-men</td>\n",
       "      <td>3.8</td>\n",
       "      <td>299</td>\n",
       "      <td>/birde-sports-running-shoes-sneakers-men/p/itm...</td>\n",
       "    </tr>\n",
       "    <tr>\n",
       "      <th>11</th>\n",
       "      <td>Magnolia</td>\n",
       "      <td>magnolia-canvas-shoes-men</td>\n",
       "      <td>3.9</td>\n",
       "      <td>389</td>\n",
       "      <td>/magnolia-canvas-shoes-men/p/itmb42a681797f2d?...</td>\n",
       "    </tr>\n",
       "    <tr>\n",
       "      <th>12</th>\n",
       "      <td>ASIAN</td>\n",
       "      <td>asian-cosko-sports-shoes-men-latest-stylish-ca...</td>\n",
       "      <td>4.1</td>\n",
       "      <td>574</td>\n",
       "      <td>/asian-cosko-sports-shoes-men-latest-stylish-c...</td>\n",
       "    </tr>\n",
       "    <tr>\n",
       "      <th>13</th>\n",
       "      <td>ASIAN</td>\n",
       "      <td>asian-elasto-02-sports-shoes-women-running-gir...</td>\n",
       "      <td>4.2</td>\n",
       "      <td>606</td>\n",
       "      <td>/asian-elasto-02-sports-shoes-women-running-gi...</td>\n",
       "    </tr>\n",
       "    <tr>\n",
       "      <th>14</th>\n",
       "      <td>density</td>\n",
       "      <td>density-socks-running-shoes-men</td>\n",
       "      <td>4.1</td>\n",
       "      <td>399</td>\n",
       "      <td>/density-socks-running-shoes-men/p/itm3f19bb00...</td>\n",
       "    </tr>\n",
       "    <tr>\n",
       "      <th>15</th>\n",
       "      <td>World Wear Footwear</td>\n",
       "      <td>world-wear-footwear-affordable-range-stylish-c...</td>\n",
       "      <td>3.8</td>\n",
       "      <td>348</td>\n",
       "      <td>/world-wear-footwear-affordable-range-stylish-...</td>\n",
       "    </tr>\n",
       "    <tr>\n",
       "      <th>16</th>\n",
       "      <td>ASIAN</td>\n",
       "      <td>asian-cosko-sports-shoes-running-shoes-walking...</td>\n",
       "      <td>4.1</td>\n",
       "      <td>574</td>\n",
       "      <td>/asian-cosko-sports-shoes-running-shoes-walkin...</td>\n",
       "    </tr>\n",
       "    <tr>\n",
       "      <th>17</th>\n",
       "      <td>ASIAN</td>\n",
       "      <td>asian-wndr-13-sports-shoes-men-latest-stylish-...</td>\n",
       "      <td>4.1</td>\n",
       "      <td>499</td>\n",
       "      <td>/asian-wndr-13-sports-shoes-men-latest-stylish...</td>\n",
       "    </tr>\n",
       "    <tr>\n",
       "      <th>18</th>\n",
       "      <td>BIRDE</td>\n",
       "      <td>birde-running-shoes-men</td>\n",
       "      <td>3.9</td>\n",
       "      <td>375</td>\n",
       "      <td>/birde-running-shoes-men/p/itmb1585bb311bfd?pi...</td>\n",
       "    </tr>\n",
       "    <tr>\n",
       "      <th>19</th>\n",
       "      <td>ASIAN</td>\n",
       "      <td>asian-cosko-sports-shoes-running-shoes-walking...</td>\n",
       "      <td>4.1</td>\n",
       "      <td>574</td>\n",
       "      <td>/asian-cosko-sports-shoes-running-shoes-walkin...</td>\n",
       "    </tr>\n",
       "    <tr>\n",
       "      <th>20</th>\n",
       "      <td>BRUTON</td>\n",
       "      <td>bruton-trendy-men-sports-running-shoes</td>\n",
       "      <td>3.8</td>\n",
       "      <td>296</td>\n",
       "      <td>/bruton-trendy-men-sports-running-shoes/p/itm5...</td>\n",
       "    </tr>\n",
       "    <tr>\n",
       "      <th>21</th>\n",
       "      <td>ASIAN</td>\n",
       "      <td>asian-creta-12-sports-shoes-men-latest-stylish...</td>\n",
       "      <td>4</td>\n",
       "      <td>699</td>\n",
       "      <td>/asian-creta-12-sports-shoes-men-latest-stylis...</td>\n",
       "    </tr>\n",
       "    <tr>\n",
       "      <th>22</th>\n",
       "      <td>aadi</td>\n",
       "      <td>aadi-casuals-men</td>\n",
       "      <td>4.1</td>\n",
       "      <td>499</td>\n",
       "      <td>/aadi-casuals-men/p/itmfgef2t8yxzrhb?pid=SHOFG...</td>\n",
       "    </tr>\n",
       "    <tr>\n",
       "      <th>23</th>\n",
       "      <td>K' Footlance</td>\n",
       "      <td>k-footlance-loafers-men</td>\n",
       "      <td>3.8</td>\n",
       "      <td>319</td>\n",
       "      <td>/k-footlance-loafers-men/p/itm87e4b44685a46?pi...</td>\n",
       "    </tr>\n",
       "    <tr>\n",
       "      <th>24</th>\n",
       "      <td>HOTSTYLE</td>\n",
       "      <td>hotstyle-sneakers-men</td>\n",
       "      <td>3.8</td>\n",
       "      <td>296</td>\n",
       "      <td>/hotstyle-sneakers-men/p/itm071be697faf47?pid=...</td>\n",
       "    </tr>\n",
       "    <tr>\n",
       "      <th>25</th>\n",
       "      <td>Kzaara</td>\n",
       "      <td>kzaara-slip-sneakers-men</td>\n",
       "      <td>3.9</td>\n",
       "      <td>259</td>\n",
       "      <td>/kzaara-slip-sneakers-men/p/itm5c13352c04e0a?p...</td>\n",
       "    </tr>\n",
       "    <tr>\n",
       "      <th>26</th>\n",
       "      <td>Kraasa</td>\n",
       "      <td>kraasa-loafers-men</td>\n",
       "      <td>3.7</td>\n",
       "      <td>444</td>\n",
       "      <td>/kraasa-loafers-men/p/itmb4683ce0a1697?pid=SHO...</td>\n",
       "    </tr>\n",
       "    <tr>\n",
       "      <th>27</th>\n",
       "      <td>ESSENCE</td>\n",
       "      <td>essence-trendy-walking-shoes-women</td>\n",
       "      <td>4</td>\n",
       "      <td>372</td>\n",
       "      <td>/essence-trendy-walking-shoes-women/p/itme49a0...</td>\n",
       "    </tr>\n",
       "    <tr>\n",
       "      <th>28</th>\n",
       "      <td>RED TAPE</td>\n",
       "      <td>red-tape-walking-shoes-men</td>\n",
       "      <td>4.2</td>\n",
       "      <td>1,077</td>\n",
       "      <td>/red-tape-walking-shoes-men/p/itm63e66eb422dc8...</td>\n",
       "    </tr>\n",
       "    <tr>\n",
       "      <th>29</th>\n",
       "      <td>BRUTON</td>\n",
       "      <td>bruton-cubic-1-running-shoes-men</td>\n",
       "      <td>3.8</td>\n",
       "      <td>273</td>\n",
       "      <td>/bruton-cubic-1-running-shoes-men/p/itmf3xw7a2...</td>\n",
       "    </tr>\n",
       "    <tr>\n",
       "      <th>30</th>\n",
       "      <td>ASIAN</td>\n",
       "      <td>asian-oxygen-01-turquoise-running-shoes-dual-c...</td>\n",
       "      <td>4.1</td>\n",
       "      <td>999</td>\n",
       "      <td>/asian-oxygen-01-turquoise-running-shoes-dual-...</td>\n",
       "    </tr>\n",
       "    <tr>\n",
       "      <th>31</th>\n",
       "      <td>ASIAN</td>\n",
       "      <td>asian-oxygen-01-navy-running-shoes-dual-capsul...</td>\n",
       "      <td>4.1</td>\n",
       "      <td>999</td>\n",
       "      <td>/asian-oxygen-01-navy-running-shoes-dual-capsu...</td>\n",
       "    </tr>\n",
       "    <tr>\n",
       "      <th>32</th>\n",
       "      <td>ASIAN</td>\n",
       "      <td>asian-hattrick-21-sports-shoes-men-latest-styl...</td>\n",
       "      <td>4</td>\n",
       "      <td>699</td>\n",
       "      <td>/asian-hattrick-21-sports-shoes-men-latest-sty...</td>\n",
       "    </tr>\n",
       "    <tr>\n",
       "      <th>33</th>\n",
       "      <td>RED TAPE</td>\n",
       "      <td>red-tape-running-shoes-men</td>\n",
       "      <td>4.4</td>\n",
       "      <td>1,077</td>\n",
       "      <td>/red-tape-running-shoes-men/p/itmd4217fdbf5a6b...</td>\n",
       "    </tr>\n",
       "    <tr>\n",
       "      <th>34</th>\n",
       "      <td>ASIAN</td>\n",
       "      <td>asian-oxygen-01-grey-running-shoes-dual-capsul...</td>\n",
       "      <td>4.1</td>\n",
       "      <td>999</td>\n",
       "      <td>/asian-oxygen-01-grey-running-shoes-dual-capsu...</td>\n",
       "    </tr>\n",
       "    <tr>\n",
       "      <th>35</th>\n",
       "      <td>BIRDE</td>\n",
       "      <td>birde-running-shoes-men</td>\n",
       "      <td>3.9</td>\n",
       "      <td>339</td>\n",
       "      <td>/birde-running-shoes-men/p/itm2c159061db12f?pi...</td>\n",
       "    </tr>\n",
       "    <tr>\n",
       "      <th>36</th>\n",
       "      <td>SCATCHITE</td>\n",
       "      <td>scatchite-sneakers-men</td>\n",
       "      <td>4</td>\n",
       "      <td>398</td>\n",
       "      <td>/scatchite-sneakers-men/p/itmc13680b1d9604?pid...</td>\n",
       "    </tr>\n",
       "    <tr>\n",
       "      <th>37</th>\n",
       "      <td>HOTSTYLE</td>\n",
       "      <td>hotstyle-designer-loafers-men</td>\n",
       "      <td>4</td>\n",
       "      <td>284</td>\n",
       "      <td>/hotstyle-designer-loafers-men/p/itmf7nkvjaveh...</td>\n",
       "    </tr>\n",
       "    <tr>\n",
       "      <th>38</th>\n",
       "      <td>Shoes Bank</td>\n",
       "      <td>shoes-bank-white-sneaker-men-s-boy-s-sneakers-men</td>\n",
       "      <td>3.9</td>\n",
       "      <td>345</td>\n",
       "      <td>/shoes-bank-white-sneaker-men-s-boy-s-sneakers...</td>\n",
       "    </tr>\n",
       "    <tr>\n",
       "      <th>39</th>\n",
       "      <td>Kraasa</td>\n",
       "      <td>kraasa-shark-41-sneakers-men</td>\n",
       "      <td>3.7</td>\n",
       "      <td>444</td>\n",
       "      <td>/kraasa-shark-41-sneakers-men/p/itmbd16a913187...</td>\n",
       "    </tr>\n",
       "  </tbody>\n",
       "</table>\n",
       "</div>"
      ],
      "text/plain": [
       "                  brand                                      product_title  \\\n",
       "0   World Wear Footwear  world-wear-footwear-affordable-collection-styl...   \n",
       "1                 BIRDE        birde-combo-pack-2-sports-shoes-running-men   \n",
       "2                 BIRDE                            birde-walking-shoes-men   \n",
       "3                 ASIAN  asian-rider-01-white-running-shoes-men-sport-b...   \n",
       "4                  aadi                             aadi-running-shoes-men   \n",
       "5                BRUTON             bruton-trendy-sports-running-shoes-men   \n",
       "6              HOTSTYLE                         hotstyle-running-shoes-men   \n",
       "7                 Axter  axter-exclusive-range-stylish-casual-walking-c...   \n",
       "8                BRUTON                   bruton-fit-man-slip-sneakers-men   \n",
       "9                BRUTON                   bruton-fit-man-slip-sneakers-men   \n",
       "10                BIRDE            birde-sports-running-shoes-sneakers-men   \n",
       "11             Magnolia                          magnolia-canvas-shoes-men   \n",
       "12                ASIAN  asian-cosko-sports-shoes-men-latest-stylish-ca...   \n",
       "13                ASIAN  asian-elasto-02-sports-shoes-women-running-gir...   \n",
       "14              density                    density-socks-running-shoes-men   \n",
       "15  World Wear Footwear  world-wear-footwear-affordable-range-stylish-c...   \n",
       "16                ASIAN  asian-cosko-sports-shoes-running-shoes-walking...   \n",
       "17                ASIAN  asian-wndr-13-sports-shoes-men-latest-stylish-...   \n",
       "18                BIRDE                            birde-running-shoes-men   \n",
       "19                ASIAN  asian-cosko-sports-shoes-running-shoes-walking...   \n",
       "20               BRUTON             bruton-trendy-men-sports-running-shoes   \n",
       "21                ASIAN  asian-creta-12-sports-shoes-men-latest-stylish...   \n",
       "22                 aadi                                   aadi-casuals-men   \n",
       "23         K' Footlance                            k-footlance-loafers-men   \n",
       "24             HOTSTYLE                              hotstyle-sneakers-men   \n",
       "25               Kzaara                           kzaara-slip-sneakers-men   \n",
       "26               Kraasa                                 kraasa-loafers-men   \n",
       "27              ESSENCE                 essence-trendy-walking-shoes-women   \n",
       "28             RED TAPE                         red-tape-walking-shoes-men   \n",
       "29               BRUTON                   bruton-cubic-1-running-shoes-men   \n",
       "30                ASIAN  asian-oxygen-01-turquoise-running-shoes-dual-c...   \n",
       "31                ASIAN  asian-oxygen-01-navy-running-shoes-dual-capsul...   \n",
       "32                ASIAN  asian-hattrick-21-sports-shoes-men-latest-styl...   \n",
       "33             RED TAPE                         red-tape-running-shoes-men   \n",
       "34                ASIAN  asian-oxygen-01-grey-running-shoes-dual-capsul...   \n",
       "35                BIRDE                            birde-running-shoes-men   \n",
       "36            SCATCHITE                             scatchite-sneakers-men   \n",
       "37             HOTSTYLE                      hotstyle-designer-loafers-men   \n",
       "38           Shoes Bank  shoes-bank-white-sneaker-men-s-boy-s-sneakers-men   \n",
       "39               Kraasa                       kraasa-shark-41-sneakers-men   \n",
       "\n",
       "   overall_rating  price                                        product_url  \n",
       "0             3.8    245  /world-wear-footwear-affordable-collection-sty...  \n",
       "1             3.6    559  /birde-combo-pack-2-sports-shoes-running-men/p...  \n",
       "2             3.8    535  /birde-walking-shoes-men/p/itm34da835b8e711?pi...  \n",
       "3               4  1,099  /asian-rider-01-white-running-shoes-men-sport-...  \n",
       "4             3.7    319  /aadi-running-shoes-men/p/itm2b3542f509660?pid...  \n",
       "5             3.8    299  /bruton-trendy-sports-running-shoes-men/p/itm6...  \n",
       "6             3.8    249  /hotstyle-running-shoes-men/p/itm5694b3a1d6910...  \n",
       "7             3.7    259  /axter-exclusive-range-stylish-casual-walking-...  \n",
       "8             3.9    228  /bruton-fit-man-slip-sneakers-men/p/itmf3xrhvg...  \n",
       "9             3.9    228  /bruton-fit-man-slip-sneakers-men/p/itmf6yvkvp...  \n",
       "10            3.8    299  /birde-sports-running-shoes-sneakers-men/p/itm...  \n",
       "11            3.9    389  /magnolia-canvas-shoes-men/p/itmb42a681797f2d?...  \n",
       "12            4.1    574  /asian-cosko-sports-shoes-men-latest-stylish-c...  \n",
       "13            4.2    606  /asian-elasto-02-sports-shoes-women-running-gi...  \n",
       "14            4.1    399  /density-socks-running-shoes-men/p/itm3f19bb00...  \n",
       "15            3.8    348  /world-wear-footwear-affordable-range-stylish-...  \n",
       "16            4.1    574  /asian-cosko-sports-shoes-running-shoes-walkin...  \n",
       "17            4.1    499  /asian-wndr-13-sports-shoes-men-latest-stylish...  \n",
       "18            3.9    375  /birde-running-shoes-men/p/itmb1585bb311bfd?pi...  \n",
       "19            4.1    574  /asian-cosko-sports-shoes-running-shoes-walkin...  \n",
       "20            3.8    296  /bruton-trendy-men-sports-running-shoes/p/itm5...  \n",
       "21              4    699  /asian-creta-12-sports-shoes-men-latest-stylis...  \n",
       "22            4.1    499  /aadi-casuals-men/p/itmfgef2t8yxzrhb?pid=SHOFG...  \n",
       "23            3.8    319  /k-footlance-loafers-men/p/itm87e4b44685a46?pi...  \n",
       "24            3.8    296  /hotstyle-sneakers-men/p/itm071be697faf47?pid=...  \n",
       "25            3.9    259  /kzaara-slip-sneakers-men/p/itm5c13352c04e0a?p...  \n",
       "26            3.7    444  /kraasa-loafers-men/p/itmb4683ce0a1697?pid=SHO...  \n",
       "27              4    372  /essence-trendy-walking-shoes-women/p/itme49a0...  \n",
       "28            4.2  1,077  /red-tape-walking-shoes-men/p/itm63e66eb422dc8...  \n",
       "29            3.8    273  /bruton-cubic-1-running-shoes-men/p/itmf3xw7a2...  \n",
       "30            4.1    999  /asian-oxygen-01-turquoise-running-shoes-dual-...  \n",
       "31            4.1    999  /asian-oxygen-01-navy-running-shoes-dual-capsu...  \n",
       "32              4    699  /asian-hattrick-21-sports-shoes-men-latest-sty...  \n",
       "33            4.4  1,077  /red-tape-running-shoes-men/p/itmd4217fdbf5a6b...  \n",
       "34            4.1    999  /asian-oxygen-01-grey-running-shoes-dual-capsu...  \n",
       "35            3.9    339  /birde-running-shoes-men/p/itm2c159061db12f?pi...  \n",
       "36              4    398  /scatchite-sneakers-men/p/itmc13680b1d9604?pid...  \n",
       "37              4    284  /hotstyle-designer-loafers-men/p/itmf7nkvjaveh...  \n",
       "38            3.9    345  /shoes-bank-white-sneaker-men-s-boy-s-sneakers...  \n",
       "39            3.7    444  /kraasa-shark-41-sneakers-men/p/itmbd16a913187...  "
      ]
     },
     "execution_count": 157,
     "metadata": {},
     "output_type": "execute_result"
    }
   ],
   "source": [
    "df"
   ]
  },
  {
   "cell_type": "code",
   "execution_count": 159,
   "metadata": {},
   "outputs": [
    {
     "data": {
      "text/plain": [
       "'/world-wear-footwear-affordable-collection-stylish-sports-shoes-men-running/p/itmf24255ddad36f?pid=SHOFV2ADZEKYVY9W&lid=LSTSHOFV2ADZEKYVY9WGQ5TTY&marketplace=FLIPKART&q=shoes&store=osp&srno=s_1_1&otracker=search&otracker1=search&fm=organic&iid=c6a3d799-0238-4cf6-b66b-13e58f36bf7f.SHOFV2ADZEKYVY9W.SEARCH&ppt=None&ppn=None&ssid=wezqwjwk7k0000001642503414589&qH=b0a8b6f820479900'"
      ]
     },
     "execution_count": 159,
     "metadata": {},
     "output_type": "execute_result"
    }
   ],
   "source": [
    "df.product_url[0]"
   ]
  },
  {
   "cell_type": "code",
   "execution_count": 162,
   "metadata": {},
   "outputs": [
    {
     "name": "stderr",
     "output_type": "stream",
     "text": [
      "100%|████████████████████████████████████████████████████████████████████████████████████| 5/5 [00:04<00:00,  1.23it/s]\n"
     ]
    }
   ],
   "source": [
    "#getting reviews for a product\n",
    "p = df.product_url[4]\n",
    "url = f\"https://www.flipkart.com{p}\"\n",
    "df = get_reviews(url)"
   ]
  },
  {
   "cell_type": "code",
   "execution_count": 169,
   "metadata": {
    "scrolled": true
   },
   "outputs": [
    {
     "data": {
      "text/html": [
       "<div>\n",
       "<style scoped>\n",
       "    .dataframe tbody tr th:only-of-type {\n",
       "        vertical-align: middle;\n",
       "    }\n",
       "\n",
       "    .dataframe tbody tr th {\n",
       "        vertical-align: top;\n",
       "    }\n",
       "\n",
       "    .dataframe thead th {\n",
       "        text-align: right;\n",
       "    }\n",
       "</style>\n",
       "<table border=\"1\" class=\"dataframe\">\n",
       "  <thead>\n",
       "    <tr style=\"text-align: right;\">\n",
       "      <th></th>\n",
       "      <th>username</th>\n",
       "      <th>Rating</th>\n",
       "      <th>date</th>\n",
       "      <th>location</th>\n",
       "      <th>Review</th>\n",
       "    </tr>\n",
       "  </thead>\n",
       "  <tbody>\n",
       "    <tr>\n",
       "      <th>0</th>\n",
       "      <td>Flipkart Customer</td>\n",
       "      <td>5</td>\n",
       "      <td>Nov, 2020</td>\n",
       "      <td>Shivamogga</td>\n",
       "      <td>Superrrr exelent i loved it looking awesome .....</td>\n",
       "    </tr>\n",
       "    <tr>\n",
       "      <th>1</th>\n",
       "      <td>Deepak Kumar</td>\n",
       "      <td>3</td>\n",
       "      <td>Sep, 2019</td>\n",
       "      <td></td>\n",
       "      <td>nice</td>\n",
       "    </tr>\n",
       "    <tr>\n",
       "      <th>2</th>\n",
       "      <td>Flipkart Customer</td>\n",
       "      <td>5</td>\n",
       "      <td>Aug, 2019</td>\n",
       "      <td></td>\n",
       "      <td>deliveryman good behave nd product was awsm.</td>\n",
       "    </tr>\n",
       "    <tr>\n",
       "      <th>3</th>\n",
       "      <td>Manoj  Vishwakarma</td>\n",
       "      <td>3</td>\n",
       "      <td>Aug, 2019</td>\n",
       "      <td></td>\n",
       "      <td>gud</td>\n",
       "    </tr>\n",
       "    <tr>\n",
       "      <th>4</th>\n",
       "      <td>Gangadhar Behera</td>\n",
       "      <td>5</td>\n",
       "      <td>Dec, 2019</td>\n",
       "      <td>Cuttack District</td>\n",
       "      <td>product is very good</td>\n",
       "    </tr>\n",
       "    <tr>\n",
       "      <th>5</th>\n",
       "      <td>Akash Jha</td>\n",
       "      <td>4</td>\n",
       "      <td>Nov, 2020</td>\n",
       "      <td>Mumbai</td>\n",
       "      <td>Over all good product in these range. Good fit...</td>\n",
       "    </tr>\n",
       "    <tr>\n",
       "      <th>6</th>\n",
       "      <td>Nehal Marik</td>\n",
       "      <td>3</td>\n",
       "      <td>Nov, 2019</td>\n",
       "      <td>Medinipur</td>\n",
       "      <td>Average</td>\n",
       "    </tr>\n",
       "    <tr>\n",
       "      <th>7</th>\n",
       "      <td>Flipkart Customer</td>\n",
       "      <td>3</td>\n",
       "      <td>7 months ago</td>\n",
       "      <td>Noida</td>\n",
       "      <td>Nice product</td>\n",
       "    </tr>\n",
       "    <tr>\n",
       "      <th>8</th>\n",
       "      <td>Pramod  Kumar</td>\n",
       "      <td>5</td>\n",
       "      <td>Feb, 2020</td>\n",
       "      <td>Dausa</td>\n",
       "      <td>Comfortable</td>\n",
       "    </tr>\n",
       "    <tr>\n",
       "      <th>9</th>\n",
       "      <td>sahil kumar</td>\n",
       "      <td>5</td>\n",
       "      <td>Sep, 2019</td>\n",
       "      <td>Delhi</td>\n",
       "      <td>i am using this shoes since last 2 days. and i...</td>\n",
       "    </tr>\n",
       "    <tr>\n",
       "      <th>10</th>\n",
       "      <td>Flipkart Customer</td>\n",
       "      <td>3</td>\n",
       "      <td>Oct, 2020</td>\n",
       "      <td>Khelari</td>\n",
       "      <td>Awesome product in this price range</td>\n",
       "    </tr>\n",
       "    <tr>\n",
       "      <th>11</th>\n",
       "      <td>Rohit  Kumar</td>\n",
       "      <td>3</td>\n",
       "      <td>Oct, 2020</td>\n",
       "      <td>Jaipur</td>\n",
       "      <td>Nice</td>\n",
       "    </tr>\n",
       "    <tr>\n",
       "      <th>12</th>\n",
       "      <td>Prakash Biswas</td>\n",
       "      <td>4</td>\n",
       "      <td>Oct, 2019</td>\n",
       "      <td>Nadia</td>\n",
       "      <td>not bad</td>\n",
       "    </tr>\n",
       "    <tr>\n",
       "      <th>13</th>\n",
       "      <td>Naushad Ansari</td>\n",
       "      <td>5</td>\n",
       "      <td>6 months ago</td>\n",
       "      <td>Jalpaiguri District</td>\n",
       "      <td>Nice product and nice coriear boy😘😘</td>\n",
       "    </tr>\n",
       "    <tr>\n",
       "      <th>14</th>\n",
       "      <td>Rapur  Murali</td>\n",
       "      <td>4</td>\n",
       "      <td>Aug, 2019</td>\n",
       "      <td>Hyderabad</td>\n",
       "      <td>nice product</td>\n",
       "    </tr>\n",
       "    <tr>\n",
       "      <th>15</th>\n",
       "      <td>Arjit Srivastava</td>\n",
       "      <td>4</td>\n",
       "      <td>Aug, 2019</td>\n",
       "      <td></td>\n",
       "      <td>good</td>\n",
       "    </tr>\n",
       "    <tr>\n",
       "      <th>16</th>\n",
       "      <td>harendra  bairwa ji</td>\n",
       "      <td>5</td>\n",
       "      <td>Sep, 2019</td>\n",
       "      <td>Bhilwara District</td>\n",
       "      <td>wow nice</td>\n",
       "    </tr>\n",
       "    <tr>\n",
       "      <th>17</th>\n",
       "      <td>Ashish Tiwari</td>\n",
       "      <td>4</td>\n",
       "      <td>Oct, 2019</td>\n",
       "      <td>Dehradun</td>\n",
       "      <td>nyc qwality gud productcolour is awesomeall th...</td>\n",
       "    </tr>\n",
       "    <tr>\n",
       "      <th>18</th>\n",
       "      <td>nitish kumar ùpàđĥýâý</td>\n",
       "      <td>3</td>\n",
       "      <td>11 months ago</td>\n",
       "      <td>Singrauli</td>\n",
       "      <td>Shoe is average good according to price but th...</td>\n",
       "    </tr>\n",
       "    <tr>\n",
       "      <th>19</th>\n",
       "      <td>MD. ASIF</td>\n",
       "      <td>5</td>\n",
       "      <td>Oct, 2019</td>\n",
       "      <td>Hyderabad</td>\n",
       "      <td>nice</td>\n",
       "    </tr>\n",
       "    <tr>\n",
       "      <th>20</th>\n",
       "      <td>Hafige Hossen</td>\n",
       "      <td>4</td>\n",
       "      <td>Dec, 2019</td>\n",
       "      <td>Kalyanpur</td>\n",
       "      <td>nic shoes,,, good for casual use,,,, and best ...</td>\n",
       "    </tr>\n",
       "    <tr>\n",
       "      <th>21</th>\n",
       "      <td>VAIRAMUTHU S</td>\n",
       "      <td>4</td>\n",
       "      <td>5 months ago</td>\n",
       "      <td>Dakshina Kannada</td>\n",
       "      <td>Just awasome 👍👍</td>\n",
       "    </tr>\n",
       "    <tr>\n",
       "      <th>22</th>\n",
       "      <td>Mayukh  Patra</td>\n",
       "      <td>1</td>\n",
       "      <td>Aug, 2019</td>\n",
       "      <td></td>\n",
       "      <td>bad quality</td>\n",
       "    </tr>\n",
       "    <tr>\n",
       "      <th>23</th>\n",
       "      <td>SANDEEP  DHAKAD</td>\n",
       "      <td>3</td>\n",
       "      <td>Sep, 2019</td>\n",
       "      <td>Kota</td>\n",
       "      <td>good</td>\n",
       "    </tr>\n",
       "    <tr>\n",
       "      <th>24</th>\n",
       "      <td>Akash  Subudhi</td>\n",
       "      <td>5</td>\n",
       "      <td>Sep, 2019</td>\n",
       "      <td>Baidyabati</td>\n",
       "      <td>satisfy thank you flipkart</td>\n",
       "    </tr>\n",
       "    <tr>\n",
       "      <th>25</th>\n",
       "      <td>Fera  Laljibhai</td>\n",
       "      <td>5</td>\n",
       "      <td>Sep, 2019</td>\n",
       "      <td>Himmatnagar</td>\n",
       "      <td>fantastic this is a product and fast delivery</td>\n",
       "    </tr>\n",
       "    <tr>\n",
       "      <th>26</th>\n",
       "      <td>Jawala Prasad Pareek</td>\n",
       "      <td>5</td>\n",
       "      <td>Sep, 2019</td>\n",
       "      <td>Bikaner</td>\n",
       "      <td>very comfort in wear and easy to wear, we don'...</td>\n",
       "    </tr>\n",
       "    <tr>\n",
       "      <th>27</th>\n",
       "      <td>Flipkart Customer</td>\n",
       "      <td>5</td>\n",
       "      <td>Sep, 2019</td>\n",
       "      <td>Chakapara</td>\n",
       "      <td>Nice Shoes</td>\n",
       "    </tr>\n",
       "    <tr>\n",
       "      <th>28</th>\n",
       "      <td>Pushkar Negi</td>\n",
       "      <td>4</td>\n",
       "      <td>Sep, 2019</td>\n",
       "      <td>Rudrapur</td>\n",
       "      <td>Good product</td>\n",
       "    </tr>\n",
       "    <tr>\n",
       "      <th>29</th>\n",
       "      <td>Niranjan tripathy</td>\n",
       "      <td>5</td>\n",
       "      <td>Oct, 2019</td>\n",
       "      <td>Rourkela</td>\n",
       "      <td>awesome</td>\n",
       "    </tr>\n",
       "    <tr>\n",
       "      <th>30</th>\n",
       "      <td>Flipkart Customer</td>\n",
       "      <td>4</td>\n",
       "      <td>Sep, 2019</td>\n",
       "      <td>Lucknow</td>\n",
       "      <td>good same as shown in image</td>\n",
       "    </tr>\n",
       "    <tr>\n",
       "      <th>31</th>\n",
       "      <td>Sonu Yadav</td>\n",
       "      <td>5</td>\n",
       "      <td>Dec, 2020</td>\n",
       "      <td>Jiyanpur</td>\n",
       "      <td>Nice products</td>\n",
       "    </tr>\n",
       "    <tr>\n",
       "      <th>32</th>\n",
       "      <td>Binoy Sarkar</td>\n",
       "      <td>3</td>\n",
       "      <td>Sep, 2019</td>\n",
       "      <td>Baidyabati</td>\n",
       "      <td>nice product</td>\n",
       "    </tr>\n",
       "    <tr>\n",
       "      <th>33</th>\n",
       "      <td>Flipkart Customer</td>\n",
       "      <td>5</td>\n",
       "      <td>Aug, 2019</td>\n",
       "      <td></td>\n",
       "      <td>nice</td>\n",
       "    </tr>\n",
       "    <tr>\n",
       "      <th>34</th>\n",
       "      <td>Amrit  Singh</td>\n",
       "      <td>4</td>\n",
       "      <td>5 months ago</td>\n",
       "      <td>Mangalbari</td>\n",
       "      <td>Good For Daily Use.=😊</td>\n",
       "    </tr>\n",
       "    <tr>\n",
       "      <th>35</th>\n",
       "      <td>Flipkart Customer</td>\n",
       "      <td>5</td>\n",
       "      <td>Oct, 2019</td>\n",
       "      <td>Mukhed</td>\n",
       "      <td>love it 👌 Awesome 😍 comfortable shoes 💯 Tnq fl...</td>\n",
       "    </tr>\n",
       "    <tr>\n",
       "      <th>36</th>\n",
       "      <td>Kapildev  Rajak</td>\n",
       "      <td>4</td>\n",
       "      <td>Nov, 2020</td>\n",
       "      <td>Varanasi</td>\n",
       "      <td>Good product with money shaving.</td>\n",
       "    </tr>\n",
       "    <tr>\n",
       "      <th>37</th>\n",
       "      <td>Prasad  Prasad</td>\n",
       "      <td>4</td>\n",
       "      <td>1 month ago</td>\n",
       "      <td>Kothagudem</td>\n",
       "      <td>Superb product 😘</td>\n",
       "    </tr>\n",
       "    <tr>\n",
       "      <th>38</th>\n",
       "      <td>Flipkart Customer</td>\n",
       "      <td>4</td>\n",
       "      <td>2 months ago</td>\n",
       "      <td>Haora District</td>\n",
       "      <td>Wow🤩... So nice shoes</td>\n",
       "    </tr>\n",
       "    <tr>\n",
       "      <th>39</th>\n",
       "      <td>Eshwari</td>\n",
       "      <td>4</td>\n",
       "      <td>4 months ago</td>\n",
       "      <td>Vijayawada</td>\n",
       "      <td>Looks like gud @Chalapathi CCR</td>\n",
       "    </tr>\n",
       "    <tr>\n",
       "      <th>40</th>\n",
       "      <td>Biswajit Roul</td>\n",
       "      <td>5</td>\n",
       "      <td>6 months ago</td>\n",
       "      <td>Bengaluru</td>\n",
       "      <td>Nice quality</td>\n",
       "    </tr>\n",
       "    <tr>\n",
       "      <th>41</th>\n",
       "      <td>Junaid Ali</td>\n",
       "      <td>4</td>\n",
       "      <td>Aug, 2020</td>\n",
       "      <td></td>\n",
       "      <td>Value for money. Quality,look, Awesome product</td>\n",
       "    </tr>\n",
       "    <tr>\n",
       "      <th>42</th>\n",
       "      <td>Flipkart Customer</td>\n",
       "      <td>5</td>\n",
       "      <td>Jan, 2020</td>\n",
       "      <td>Peddapuram</td>\n",
       "      <td>Super</td>\n",
       "    </tr>\n",
       "    <tr>\n",
       "      <th>43</th>\n",
       "      <td>Savio Toppo</td>\n",
       "      <td>4</td>\n",
       "      <td>Nov, 2019</td>\n",
       "      <td>Bhiwandi</td>\n",
       "      <td>nice nd value for money</td>\n",
       "    </tr>\n",
       "    <tr>\n",
       "      <th>44</th>\n",
       "      <td>Mohammad  Shadab</td>\n",
       "      <td>3</td>\n",
       "      <td>Oct, 2019</td>\n",
       "      <td>Gonda District</td>\n",
       "      <td>nice  product</td>\n",
       "    </tr>\n",
       "    <tr>\n",
       "      <th>45</th>\n",
       "      <td>Sanket  Pawar</td>\n",
       "      <td>1</td>\n",
       "      <td>Sep, 2019</td>\n",
       "      <td></td>\n",
       "      <td>don't like</td>\n",
       "    </tr>\n",
       "    <tr>\n",
       "      <th>46</th>\n",
       "      <td>Mahiuddin Waliullah</td>\n",
       "      <td>1</td>\n",
       "      <td>Aug, 2019</td>\n",
       "      <td></td>\n",
       "      <td>Size is not comfortable.The 10 sizes show 26.9...</td>\n",
       "    </tr>\n",
       "    <tr>\n",
       "      <th>47</th>\n",
       "      <td>Baoja Jafadd</td>\n",
       "      <td>1</td>\n",
       "      <td>Aug, 2019</td>\n",
       "      <td></td>\n",
       "      <td>very low quality</td>\n",
       "    </tr>\n",
       "    <tr>\n",
       "      <th>48</th>\n",
       "      <td>Flipkart Customer</td>\n",
       "      <td>5</td>\n",
       "      <td>Aug, 2019</td>\n",
       "      <td></td>\n",
       "      <td>Very good</td>\n",
       "    </tr>\n",
       "    <tr>\n",
       "      <th>49</th>\n",
       "      <td>Badri Nikhil</td>\n",
       "      <td>3</td>\n",
       "      <td>Aug, 2019</td>\n",
       "      <td></td>\n",
       "      <td>ok is a not good</td>\n",
       "    </tr>\n",
       "  </tbody>\n",
       "</table>\n",
       "</div>"
      ],
      "text/plain": [
       "                 username Rating           date             location  \\\n",
       "0       Flipkart Customer      5      Nov, 2020           Shivamogga   \n",
       "1            Deepak Kumar      3      Sep, 2019                        \n",
       "2       Flipkart Customer      5      Aug, 2019                        \n",
       "3      Manoj  Vishwakarma      3      Aug, 2019                        \n",
       "4        Gangadhar Behera      5      Dec, 2019     Cuttack District   \n",
       "5               Akash Jha      4      Nov, 2020               Mumbai   \n",
       "6             Nehal Marik      3      Nov, 2019            Medinipur   \n",
       "7       Flipkart Customer      3   7 months ago                Noida   \n",
       "8           Pramod  Kumar      5      Feb, 2020                Dausa   \n",
       "9             sahil kumar      5      Sep, 2019                Delhi   \n",
       "10      Flipkart Customer      3      Oct, 2020              Khelari   \n",
       "11           Rohit  Kumar      3      Oct, 2020               Jaipur   \n",
       "12         Prakash Biswas      4      Oct, 2019                Nadia   \n",
       "13         Naushad Ansari      5   6 months ago  Jalpaiguri District   \n",
       "14         Rapur  Murali       4      Aug, 2019            Hyderabad   \n",
       "15       Arjit Srivastava      4      Aug, 2019                        \n",
       "16    harendra  bairwa ji      5      Sep, 2019    Bhilwara District   \n",
       "17          Ashish Tiwari      4      Oct, 2019             Dehradun   \n",
       "18  nitish kumar ùpàđĥýâý      3  11 months ago            Singrauli   \n",
       "19               MD. ASIF      5      Oct, 2019            Hyderabad   \n",
       "20          Hafige Hossen      4      Dec, 2019            Kalyanpur   \n",
       "21           VAIRAMUTHU S      4   5 months ago     Dakshina Kannada   \n",
       "22          Mayukh  Patra      1      Aug, 2019                        \n",
       "23        SANDEEP  DHAKAD      3      Sep, 2019                 Kota   \n",
       "24         Akash  Subudhi      5      Sep, 2019           Baidyabati   \n",
       "25        Fera  Laljibhai      5      Sep, 2019          Himmatnagar   \n",
       "26   Jawala Prasad Pareek      5      Sep, 2019              Bikaner   \n",
       "27      Flipkart Customer      5      Sep, 2019            Chakapara   \n",
       "28           Pushkar Negi      4      Sep, 2019             Rudrapur   \n",
       "29      Niranjan tripathy      5      Oct, 2019             Rourkela   \n",
       "30      Flipkart Customer      4      Sep, 2019              Lucknow   \n",
       "31             Sonu Yadav      5      Dec, 2020             Jiyanpur   \n",
       "32           Binoy Sarkar      3      Sep, 2019           Baidyabati   \n",
       "33      Flipkart Customer      5      Aug, 2019                        \n",
       "34           Amrit  Singh      4   5 months ago           Mangalbari   \n",
       "35      Flipkart Customer      5      Oct, 2019               Mukhed   \n",
       "36        Kapildev  Rajak      4      Nov, 2020             Varanasi   \n",
       "37        Prasad  Prasad       4    1 month ago           Kothagudem   \n",
       "38      Flipkart Customer      4   2 months ago       Haora District   \n",
       "39                Eshwari      4   4 months ago           Vijayawada   \n",
       "40          Biswajit Roul      5   6 months ago            Bengaluru   \n",
       "41             Junaid Ali      4      Aug, 2020                        \n",
       "42      Flipkart Customer      5      Jan, 2020           Peddapuram   \n",
       "43            Savio Toppo      4      Nov, 2019             Bhiwandi   \n",
       "44      Mohammad  Shadab       3      Oct, 2019       Gonda District   \n",
       "45          Sanket  Pawar      1      Sep, 2019                        \n",
       "46    Mahiuddin Waliullah      1      Aug, 2019                        \n",
       "47           Baoja Jafadd      1      Aug, 2019                        \n",
       "48      Flipkart Customer      5      Aug, 2019                        \n",
       "49           Badri Nikhil      3      Aug, 2019                        \n",
       "\n",
       "                                               Review  \n",
       "0   Superrrr exelent i loved it looking awesome .....  \n",
       "1                                                nice  \n",
       "2        deliveryman good behave nd product was awsm.  \n",
       "3                                                 gud  \n",
       "4                                product is very good  \n",
       "5   Over all good product in these range. Good fit...  \n",
       "6                                             Average  \n",
       "7                                        Nice product  \n",
       "8                                         Comfortable  \n",
       "9   i am using this shoes since last 2 days. and i...  \n",
       "10                Awesome product in this price range  \n",
       "11                                               Nice  \n",
       "12                                            not bad  \n",
       "13                Nice product and nice coriear boy😘😘  \n",
       "14                                       nice product  \n",
       "15                                               good  \n",
       "16                                           wow nice  \n",
       "17  nyc qwality gud productcolour is awesomeall th...  \n",
       "18  Shoe is average good according to price but th...  \n",
       "19                                               nice  \n",
       "20  nic shoes,,, good for casual use,,,, and best ...  \n",
       "21                                    Just awasome 👍👍  \n",
       "22                                        bad quality  \n",
       "23                                               good  \n",
       "24                         satisfy thank you flipkart  \n",
       "25      fantastic this is a product and fast delivery  \n",
       "26  very comfort in wear and easy to wear, we don'...  \n",
       "27                                         Nice Shoes  \n",
       "28                                       Good product  \n",
       "29                                            awesome  \n",
       "30                        good same as shown in image  \n",
       "31                                      Nice products  \n",
       "32                                       nice product  \n",
       "33                                               nice  \n",
       "34                              Good For Daily Use.=😊  \n",
       "35  love it 👌 Awesome 😍 comfortable shoes 💯 Tnq fl...  \n",
       "36                   Good product with money shaving.  \n",
       "37                                   Superb product 😘  \n",
       "38                              Wow🤩... So nice shoes  \n",
       "39                     Looks like gud @Chalapathi CCR  \n",
       "40                                       Nice quality  \n",
       "41     Value for money. Quality,look, Awesome product  \n",
       "42                                              Super  \n",
       "43                            nice nd value for money  \n",
       "44                                      nice  product  \n",
       "45                                         don't like  \n",
       "46  Size is not comfortable.The 10 sizes show 26.9...  \n",
       "47                                   very low quality  \n",
       "48                                          Very good  \n",
       "49                                   ok is a not good  "
      ]
     },
     "execution_count": 169,
     "metadata": {},
     "output_type": "execute_result"
    }
   ],
   "source": [
    "df"
   ]
  },
  {
   "cell_type": "code",
   "execution_count": 149,
   "metadata": {},
   "outputs": [],
   "source": [
    "# def get_products_with_rev(url):\n",
    "#     import pandas as pd\n",
    "#     import numpy as np\n",
    "#     from tqdm import tqdm\n",
    "    \n",
    "#     new_brands = []\n",
    "#     new_prod_name = []\n",
    "#     brands = []\n",
    "#     product_link1 = []\n",
    "#     product_title1 = []\n",
    "#     ratings = []\n",
    "#     price = []\n",
    "#     for i in tqdm(range(1,2)):          #for 1 page\n",
    "#         page = f\"{url}&page={i}\"\n",
    "#         parser = parsed(page)\n",
    "    \n",
    "#         brand_tag = parser.find_all(\"div\",{\"class\":\"_2WkVRV\"})    #class will not be same for all products\n",
    "        \n",
    "#         for j in brand_tag:\n",
    "#             brands.append(j.text)\n",
    "\n",
    "#         product_title_tag = parser.find_all(\"a\",{\"class\":\"IRpwTa\"})\n",
    "#         product_link2 = []\n",
    "\n",
    "#         for k in product_title_tag:\n",
    "#             product_link1.append(k['href'])\n",
    "#             product_title1.append(k['href'].split(\"/\")[1])\n",
    "#             product_link2.append(k['href'])\n",
    "            \n",
    "#         star= get_rating(product_link2)\n",
    "#         for l in star:\n",
    "#             ratings.append(l)\n",
    "                              \n",
    "#         price_list = get_price(parser)\n",
    "#         for p in range(0,40):\n",
    "#             price.append(price_list[p])\n",
    "    \n",
    "    \n",
    "#     for j in tqdm(range(len(product_link))):\n",
    "#         l = product_link[j]\n",
    "#         link = f\"https://www.flipkart.com{l}\"\n",
    "# #         p = parsed(link)\n",
    "#         d = get_reviews(link)\n",
    "#         new_brands.append(brands[j]*50)\n",
    "#         new_prod_name.append(product_title1[j]*50)\n",
    "                              \n",
    "#     dataset = pd.DataFrame({\"brand\": new_brands,\"product_name\":new_prod_name,\"overall_rating\":ratings,\"price\":price,\"username\":d[\"username\"],\"rating\":d[\"Rating\"],\"date\":d[\"date\"],\"location\":d[\"location\"],\"review\":d[\"Review\"]})\n",
    "#     return dataset"
   ]
  }
 ],
 "metadata": {
  "kernelspec": {
   "display_name": "Python 3 (ipykernel)",
   "language": "python",
   "name": "python3"
  },
  "language_info": {
   "codemirror_mode": {
    "name": "ipython",
    "version": 3
   },
   "file_extension": ".py",
   "mimetype": "text/x-python",
   "name": "python",
   "nbconvert_exporter": "python",
   "pygments_lexer": "ipython3",
   "version": "3.8.12"
  }
 },
 "nbformat": 4,
 "nbformat_minor": 4
}
